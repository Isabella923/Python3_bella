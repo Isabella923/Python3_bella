{
 "cells": [
  {
   "cell_type": "markdown",
   "metadata": {},
   "source": [
    "# Numpy\n",
    "고성능의 수치 계산용 패키지 <br>\n",
    "빠르고 효율적인 데이터 배열 처리를 지원함 <br>\n",
    "다양한 매서드 존재 <br>\n",
    "pandas, scipy, matplotlib 등 여러 패키지들의 기반이 되는 라이브러리"
   ]
  },
  {
   "cell_type": "code",
   "execution_count": 1,
   "metadata": {},
   "outputs": [],
   "source": [
    "import numpy as np"
   ]
  },
  {
   "cell_type": "markdown",
   "metadata": {},
   "source": [
    "### A. array\n"
   ]
  },
  {
   "cell_type": "markdown",
   "metadata": {},
   "source": [
    "#### A-1 numpy array 생성 (1,2,3차원)"
   ]
  },
  {
   "cell_type": "code",
   "execution_count": 3,
   "metadata": {},
   "outputs": [
    {
     "name": "stdout",
     "output_type": "stream",
     "text": [
      "[1, 2, 3]\n",
      "[1 2 3]\n",
      "[1 2 3]\n",
      "[1 2 3]\n"
     ]
    }
   ],
   "source": [
    "# 1차원 numpy array 만들기 (2 methods)\n",
    "# 1) list -> numpy array\n",
    "list1st = [1, 2, 3]\n",
    "dim1_arr = np.array(list1st)\n",
    "\n",
    "# 2) 바로 numpy array 생성 \n",
    "dim1_arr2 = np.array([1, 2, 3])\n",
    "dim1_arr3 = np.array(range(1,4))\n",
    "\n",
    "print(list1st)\n",
    "print(dim1_arr)\n",
    "print(dim1_arr2)\n",
    "print(dim1_arr3)"
   ]
  },
  {
   "cell_type": "code",
   "execution_count": 4,
   "metadata": {},
   "outputs": [
    {
     "name": "stdout",
     "output_type": "stream",
     "text": [
      "[[1 2 3]\n",
      " [4 5 6]]\n"
     ]
    }
   ],
   "source": [
    "# 2차원 numpy array 만들기 \n",
    "dim2_arr = np.array(\n",
    "    [[1, 2, 3],\n",
    "    [4, 5, 6]],)\n",
    "\n",
    "print(dim2_arr)"
   ]
  },
  {
   "cell_type": "code",
   "execution_count": 5,
   "metadata": {},
   "outputs": [
    {
     "name": "stdout",
     "output_type": "stream",
     "text": [
      "[[[ 1  2  3]\n",
      "  [ 4  5  6]]\n",
      "\n",
      " [[ 7  8  9]\n",
      "  [10 11 12]]]\n"
     ]
    }
   ],
   "source": [
    "# 3차원 numpy array 만들기\n",
    "dim3_arr = np.array(\n",
    "    [[[1, 2, 3],\n",
    "    [4, 5, 6]],\n",
    "    [[7, 8, 9],\n",
    "    [10, 11, 12]]],)\n",
    "print(dim3_arr)"
   ]
  },
  {
   "cell_type": "markdown",
   "metadata": {},
   "source": [
    "##### + ndarray attributes"
   ]
  },
  {
   "cell_type": "code",
   "execution_count": 6,
   "metadata": {},
   "outputs": [
    {
     "data": {
      "text/plain": [
       "1"
      ]
     },
     "execution_count": 6,
     "metadata": {},
     "output_type": "execute_result"
    }
   ],
   "source": [
    "# ndarray.ndim (차원을 반환)\n",
    "dim1_arr.ndim"
   ]
  },
  {
   "cell_type": "code",
   "execution_count": 7,
   "metadata": {},
   "outputs": [
    {
     "data": {
      "text/plain": [
       "(2, 3)"
      ]
     },
     "execution_count": 7,
     "metadata": {},
     "output_type": "execute_result"
    }
   ],
   "source": [
    "# ndarray.shape ((행,렬) 반환)\n",
    "dim2_arr.shape"
   ]
  },
  {
   "cell_type": "code",
   "execution_count": 8,
   "metadata": {},
   "outputs": [
    {
     "data": {
      "text/plain": [
       "12"
      ]
     },
     "execution_count": 8,
     "metadata": {},
     "output_type": "execute_result"
    }
   ],
   "source": [
    "# ndarray.size (array에 있는 모든 elements 반환)\n",
    "dim3_arr.size"
   ]
  },
  {
   "cell_type": "code",
   "execution_count": 9,
   "metadata": {},
   "outputs": [
    {
     "name": "stdout",
     "output_type": "stream",
     "text": [
      "int32\n"
     ]
    },
    {
     "data": {
      "text/plain": [
       "dtype('float64')"
      ]
     },
     "execution_count": 9,
     "metadata": {},
     "output_type": "execute_result"
    }
   ],
   "source": [
    "# ndarray.dtype (date type을 반환 _ 지정하지 않을 경우 유추해서 생성)\n",
    "print(dim1_arr.dtype)\n",
    "dim1_arr_float = np.array([1, 2, 3], dtype=float)\n",
    "dim1_arr_float.dtype"
   ]
  },
  {
   "cell_type": "code",
   "execution_count": 10,
   "metadata": {},
   "outputs": [
    {
     "data": {
      "text/plain": [
       "numpy.ndarray"
      ]
     },
     "execution_count": 10,
     "metadata": {},
     "output_type": "execute_result"
    }
   ],
   "source": [
    "# numpy의 n차원의 배열 객체\n",
    "type(dim2_arr)"
   ]
  },
  {
   "cell_type": "markdown",
   "metadata": {},
   "source": [
    "#### A-2 reshape & resize\n",
    "reshape : array의 차원을 반환, 실제 배열을 바꾸지 않고 only return <br>\n",
    "resize : reshape과 same 기능, but 배열 자체를 바꿈 <br>\n",
    "둘다 size가 같아야 변환이 가능함"
   ]
  },
  {
   "cell_type": "code",
   "execution_count": 11,
   "metadata": {},
   "outputs": [
    {
     "name": "stdout",
     "output_type": "stream",
     "text": [
      "[0 1 2 3 4 5 6 7 8 9]\n"
     ]
    },
    {
     "data": {
      "text/plain": [
       "((10,), 1)"
      ]
     },
     "execution_count": 11,
     "metadata": {},
     "output_type": "execute_result"
    }
   ],
   "source": [
    "arr1 = np.array(range(10))\n",
    "print(arr1)\n",
    "arr1.shape, arr1.ndim"
   ]
  },
  {
   "cell_type": "code",
   "execution_count": 12,
   "metadata": {},
   "outputs": [
    {
     "name": "stdout",
     "output_type": "stream",
     "text": [
      "[[0 1 2 3 4]\n",
      " [5 6 7 8 9]]\n",
      "[[0 1 2 3 4]\n",
      " [5 6 7 8 9]]\n"
     ]
    },
    {
     "data": {
      "text/plain": [
       "array([0, 1, 2, 3, 4, 5, 6, 7, 8, 9])"
      ]
     },
     "execution_count": 12,
     "metadata": {},
     "output_type": "execute_result"
    }
   ],
   "source": [
    "# reshape (2 methods)\n",
    "print(arr1.reshape(2, 5))\n",
    "print(np.reshape(arr1, (2, 5)))\n",
    "arr1"
   ]
  },
  {
   "cell_type": "code",
   "execution_count": 13,
   "metadata": {},
   "outputs": [
    {
     "data": {
      "text/plain": [
       "array([[0, 1, 2, 3, 4],\n",
       "       [5, 6, 7, 8, 9]])"
      ]
     },
     "execution_count": 13,
     "metadata": {},
     "output_type": "execute_result"
    }
   ],
   "source": [
    "# resize\n",
    "arr1.resize(2, 5)\n",
    "arr1"
   ]
  },
  {
   "cell_type": "code",
   "execution_count": 14,
   "metadata": {},
   "outputs": [
    {
     "name": "stdout",
     "output_type": "stream",
     "text": [
      "[[[0 1 2 3 4]\n",
      "  [5 6 7 8 9]]] (1, 2, 5)\n",
      "[[0 1 2 3 4]\n",
      " [5 6 7 8 9]] (2, 5)\n"
     ]
    }
   ],
   "source": [
    "# reshape에서 -1사용 (resize에서는 사용불가)\n",
    "# -1을 하나 써주고 나머지 수를 넣으면, -1 자리를 원래 배열의 길이와 남은 차원으로부터 추정\n",
    "# 숫자의 개수 = 차원\n",
    "arr_trans1 = arr1.reshape(-1, 2, 5)\n",
    "print(arr_trans1, arr_trans1.shape)\n",
    "\n",
    "arr_trans2 = arr1.reshape(2, -1)\n",
    "print(arr_trans2, arr_trans2.shape)"
   ]
  },
  {
   "cell_type": "markdown",
   "metadata": {},
   "source": [
    "##### + newaxis 이용하기"
   ]
  },
  {
   "cell_type": "code",
   "execution_count": 15,
   "metadata": {},
   "outputs": [
    {
     "name": "stdout",
     "output_type": "stream",
     "text": [
      "[1 2 3] (3,) 1\n",
      "[[1 2 3]] (1, 3) 2\n",
      "[[1]\n",
      " [2]\n",
      " [3]] (3, 1) 2\n"
     ]
    }
   ],
   "source": [
    "nx = np.array([1,2,3])\n",
    "nx1 = nx[np.newaxis, :]\n",
    "nx2 = nx[:, np.newaxis]\n",
    "print(nx, nx.shape, nx.ndim)\n",
    "print(nx1, nx1.shape, nx1.ndim)\n",
    "print(nx2, nx2.shape, nx2.ndim)"
   ]
  },
  {
   "cell_type": "markdown",
   "metadata": {},
   "source": [
    "#### A-3 index & slice\n",
    "행렬 데이터를 수정하거나 자를 때, 가져올 때 사용 (0부터 시작)"
   ]
  },
  {
   "cell_type": "code",
   "execution_count": 16,
   "metadata": {},
   "outputs": [
    {
     "data": {
      "text/plain": [
       "(array([[[ 1,  2,  3],\n",
       "         [ 4,  5,  6]],\n",
       " \n",
       "        [[ 7,  8,  9],\n",
       "         [10, 11, 12]]]), (2, 2, 3), 3)"
      ]
     },
     "execution_count": 16,
     "metadata": {},
     "output_type": "execute_result"
    }
   ],
   "source": [
    "arr_ex = np.array(\n",
    "    [[[1, 2, 3],\n",
    "    [4, 5, 6]],\n",
    "    [[7, 8, 9],\n",
    "    [10, 11, 12]]])\n",
    "arr_ex, arr_ex.shape, arr_ex.ndim"
   ]
  },
  {
   "cell_type": "code",
   "execution_count": 17,
   "metadata": {},
   "outputs": [
    {
     "name": "stdout",
     "output_type": "stream",
     "text": [
      "[[ 7  8  9]\n",
      " [10 11 12]]\n",
      "6\n"
     ]
    }
   ],
   "source": [
    "# indexing\n",
    "print(arr_ex[1])\n",
    "print(arr_ex[0][1][2])"
   ]
  },
  {
   "cell_type": "code",
   "execution_count": 18,
   "metadata": {},
   "outputs": [
    {
     "data": {
      "text/plain": [
       "(array([[[ 8,  9],\n",
       "         [11, 12]]]), 3)"
      ]
     },
     "execution_count": 18,
     "metadata": {},
     "output_type": "execute_result"
    }
   ],
   "source": [
    "# slicing\n",
    "arr_ex_sl = arr_ex[1:, :, 1:]\n",
    "arr_ex_sl, arr_ex_sl.ndim #차원은 그대로"
   ]
  },
  {
   "cell_type": "code",
   "execution_count": 19,
   "metadata": {},
   "outputs": [
    {
     "data": {
      "text/plain": [
       "array([[[ 1,  2,  3],\n",
       "        [ 4,  5,  6]],\n",
       "\n",
       "       [[ 7,  0,  0],\n",
       "        [10,  0,  0]]])"
      ]
     },
     "execution_count": 19,
     "metadata": {},
     "output_type": "execute_result"
    }
   ],
   "source": [
    "# modifying (slicing해서 나온 부분 모두를 0으로 바꿔 넣기)\n",
    "arr_ex[1:, :, 1:] = 0\n",
    "arr_ex"
   ]
  },
  {
   "cell_type": "markdown",
   "metadata": {},
   "source": [
    "### B creation function\n",
    "1. zeros(shape) : 0으로 이루어진 행렬을 만듬\n",
    "2. ones(shape) : 1로 이루어진 행렬을 만듬\n",
    "3. eye(n,m,start-point) : n*m의 단위행렬을 만듬\n",
    "4. identity(n) : n*n의 단위 행렬을 만듬\n",
    "5. empty(shape) : 더미 데이터로 이루어진 행렬을 만듬\n",
    "6. full(shape, fill_value) : 해당 shape에 fill_value를 넣음\n",
    "7. arange(start, end, step) : range와 같은 역할을 수행\n",
    "8. linspace(start, end, num) : star ~ end 수 사이를 num개로 동일하게 자른 것\n",
    "9. stack : 행렬을 쌓음\n",
    "10. concatenate : 행렬을 결합\n",
    "11. split : 행렬을 자름 "
   ]
  },
  {
   "cell_type": "code",
   "execution_count": 20,
   "metadata": {},
   "outputs": [
    {
     "name": "stdout",
     "output_type": "stream",
     "text": [
      "[[[0 0]\n",
      "  [0 0]\n",
      "  [0 0]]\n",
      "\n",
      " [[0 0]\n",
      "  [0 0]\n",
      "  [0 0]]]\n"
     ]
    },
    {
     "data": {
      "text/plain": [
       "array([[[0, 0, 0],\n",
       "        [0, 0, 0]],\n",
       "\n",
       "       [[0, 0, 0],\n",
       "        [0, 0, 0]]])"
      ]
     },
     "execution_count": 20,
     "metadata": {},
     "output_type": "execute_result"
    }
   ],
   "source": [
    "# 1. zeros (주로 행렬 데이터 생성시 사용) (2 methods)\n",
    "z1 = np.zeros((2, 3, 2), dtype=int)\n",
    "z2 = np.zeros_like(arr_ex, dtype=int)\n",
    "print(z1)\n",
    "z2"
   ]
  },
  {
   "cell_type": "code",
   "execution_count": 21,
   "metadata": {},
   "outputs": [
    {
     "name": "stdout",
     "output_type": "stream",
     "text": [
      "[[1 1 1]\n",
      " [1 1 1]\n",
      " [1 1 1]\n",
      " [1 1 1]]\n"
     ]
    },
    {
     "data": {
      "text/plain": [
       "array([[[1, 1, 1],\n",
       "        [1, 1, 1]],\n",
       "\n",
       "       [[1, 1, 1],\n",
       "        [1, 1, 1]]])"
      ]
     },
     "execution_count": 21,
     "metadata": {},
     "output_type": "execute_result"
    }
   ],
   "source": [
    "# 2. ones (주로 행렬 데이터 생성시 사용) (2 methods)\n",
    "o1 = np.ones((4, 3), dtype=int)\n",
    "o2 = np.ones_like(arr_ex, dtype=int)\n",
    "print(o1)\n",
    "o2"
   ]
  },
  {
   "cell_type": "code",
   "execution_count": 22,
   "metadata": {},
   "outputs": [
    {
     "name": "stdout",
     "output_type": "stream",
     "text": [
      "[[0. 0. 1. 0.]\n",
      " [0. 0. 0. 1.]\n",
      " [0. 0. 0. 0.]]\n"
     ]
    }
   ],
   "source": [
    "# 3. eye (n*m 단위행렬을 만들되, 마지막 숫자는 1을 쓰는 첫번째 지점을 의미)\n",
    "print(np.eye(3,4,2))"
   ]
  },
  {
   "cell_type": "code",
   "execution_count": 23,
   "metadata": {},
   "outputs": [
    {
     "data": {
      "text/plain": [
       "array([[1., 0., 0.],\n",
       "       [0., 1., 0.],\n",
       "       [0., 0., 1.]])"
      ]
     },
     "execution_count": 23,
     "metadata": {},
     "output_type": "execute_result"
    }
   ],
   "source": [
    "# 4. identity\n",
    "np.identity(3)"
   ]
  },
  {
   "cell_type": "code",
   "execution_count": 24,
   "metadata": {},
   "outputs": [
    {
     "data": {
      "text/plain": [
       "array([[1.43494560e-311, 6.27463370e-322, 0.00000000e+000],\n",
       "       [0.00000000e+000, 1.89146896e-307, 5.30276956e+180],\n",
       "       [1.57076922e-076, 4.57664832e-071, 4.26362805e-086],\n",
       "       [3.35859253e-143, 6.01433264e+175, 6.93885958e+218],\n",
       "       [5.56218858e+180, 3.94356143e+180, 3.69793533e-033],\n",
       "       [9.95692471e-043, 1.43471486e-051, 3.38056514e-061],\n",
       "       [5.43386232e-143, 1.50008929e+248, 2.59305228e-306]])"
      ]
     },
     "execution_count": 24,
     "metadata": {},
     "output_type": "execute_result"
    }
   ],
   "source": [
    "# 5. empty\n",
    "np.empty((7,3)) # e : 2.68e+154 -> 2.68 * 10 ** 154 이런식으로 계산"
   ]
  },
  {
   "cell_type": "code",
   "execution_count": 25,
   "metadata": {},
   "outputs": [
    {
     "data": {
      "text/plain": [
       "array([[5, 5, 5],\n",
       "       [5, 5, 5]])"
      ]
     },
     "execution_count": 25,
     "metadata": {},
     "output_type": "execute_result"
    }
   ],
   "source": [
    "# 6. full\n",
    "np.full((2,3),5)"
   ]
  },
  {
   "cell_type": "code",
   "execution_count": 26,
   "metadata": {},
   "outputs": [
    {
     "data": {
      "text/plain": [
       "array([5, 7, 9])"
      ]
     },
     "execution_count": 26,
     "metadata": {},
     "output_type": "execute_result"
    }
   ],
   "source": [
    "# 7. arange (맨 마지막에 dtype넣어도 OK)\n",
    "np.arange(5,10,2)"
   ]
  },
  {
   "cell_type": "code",
   "execution_count": 27,
   "metadata": {},
   "outputs": [
    {
     "data": {
      "text/plain": [
       "array([0.  , 0.25, 0.5 , 0.75, 1.  , 1.25, 1.5 , 1.75, 2.  ])"
      ]
     },
     "execution_count": 27,
     "metadata": {},
     "output_type": "execute_result"
    }
   ],
   "source": [
    "# 8. linspace\n",
    "np.linspace(0, 2, 9)"
   ]
  },
  {
   "cell_type": "code",
   "execution_count": 28,
   "metadata": {},
   "outputs": [
    {
     "name": "stdout",
     "output_type": "stream",
     "text": [
      "[0 1 2 3 4]\n",
      "[5 6 7 8 9]\n"
     ]
    }
   ],
   "source": [
    "# 9. stack (vstack, hstack, axis)\n",
    "na1 = np.arange(5)\n",
    "na2 = np.arange(5, 10)\n",
    "print(na1, na2, sep='\\n')"
   ]
  },
  {
   "cell_type": "code",
   "execution_count": 31,
   "metadata": {},
   "outputs": [
    {
     "name": "stdout",
     "output_type": "stream",
     "text": [
      "[[0 1 2 3 4]\n",
      " [5 6 7 8 9]]\n",
      "[[0 1 2 3 4]\n",
      " [5 6 7 8 9]]\n",
      "\n",
      "\n",
      "[[0 5]\n",
      " [1 6]\n",
      " [2 7]\n",
      " [3 8]\n",
      " [4 9]]\n",
      "\n",
      "\n",
      "[0 1 2 3 4 5 6 7 8 9]\n"
     ]
    }
   ],
   "source": [
    "na_a0 = np.stack((na1, na2)) # axis = 0\n",
    "na_s = np.vstack((na1, na2)) # 위 2개는 같다\n",
    "na_a1 = np.stack((na1, na2), axis = 1)\n",
    "na_h = np.hstack((na1, na2)) # 안으로 넣은 것 (위 2개는 같지 않음)\n",
    "print(na_a0, na_s, sep='\\n')\n",
    "print(\"\\n\")\n",
    "print(na_a1)\n",
    "print(\"\\n\")\n",
    "print(na_h)"
   ]
  },
  {
   "cell_type": "code",
   "execution_count": 32,
   "metadata": {},
   "outputs": [
    {
     "name": "stdout",
     "output_type": "stream",
     "text": [
      "[[[ 1  2  3]\n",
      "  [ 4  5  6]]\n",
      "\n",
      " [[ 7  8  9]\n",
      "  [10 11 12]]]\n",
      "[[[ 1  2  3]\n",
      "  [ 4  5  6]]\n",
      "\n",
      " [[ 7  8  9]\n",
      "  [10 11 12]]]\n"
     ]
    }
   ],
   "source": [
    "# 9-1. 2차원 이상일 때의 stack\n",
    "na21 = np.arange(1, 13).reshape(2, 2, 3)\n",
    "na22 = np.arange(1, 13).reshape(2, 2, 3)\n",
    "print(na21, na22, sep='\\n')"
   ]
  },
  {
   "cell_type": "code",
   "execution_count": 33,
   "metadata": {},
   "outputs": [
    {
     "name": "stdout",
     "output_type": "stream",
     "text": [
      "[[[[ 1  2  3]\n",
      "   [ 4  5  6]]\n",
      "\n",
      "  [[ 7  8  9]\n",
      "   [10 11 12]]]\n",
      "\n",
      "\n",
      " [[[ 1  2  3]\n",
      "   [ 4  5  6]]\n",
      "\n",
      "  [[ 7  8  9]\n",
      "   [10 11 12]]]] (2, 2, 2, 3)\n",
      "[[[[ 1  2  3]\n",
      "   [ 4  5  6]]\n",
      "\n",
      "  [[ 1  2  3]\n",
      "   [ 4  5  6]]]\n",
      "\n",
      "\n",
      " [[[ 7  8  9]\n",
      "   [10 11 12]]\n",
      "\n",
      "  [[ 7  8  9]\n",
      "   [10 11 12]]]] (2, 2, 2, 3)\n",
      "[[[[ 1  2  3]\n",
      "   [ 1  2  3]]\n",
      "\n",
      "  [[ 4  5  6]\n",
      "   [ 4  5  6]]]\n",
      "\n",
      "\n",
      " [[[ 7  8  9]\n",
      "   [ 7  8  9]]\n",
      "\n",
      "  [[10 11 12]\n",
      "   [10 11 12]]]] (2, 2, 2, 3)\n",
      "[[[[ 1  1]\n",
      "   [ 2  2]\n",
      "   [ 3  3]]\n",
      "\n",
      "  [[ 4  4]\n",
      "   [ 5  5]\n",
      "   [ 6  6]]]\n",
      "\n",
      "\n",
      " [[[ 7  7]\n",
      "   [ 8  8]\n",
      "   [ 9  9]]\n",
      "\n",
      "  [[10 10]\n",
      "   [11 11]\n",
      "   [12 12]]]] (2, 2, 3, 2)\n"
     ]
    }
   ],
   "source": [
    "na23 = np.stack((na21, na22), axis = 0)\n",
    "na24 = np.stack((na21, na22), axis = 1)\n",
    "na25 = np.stack((na21, na22), axis = 2)\n",
    "na26 = np.stack((na21, na22), axis = 3)\n",
    "print(na23, na23.shape)\n",
    "print(na24, na24.shape)\n",
    "print(na25, na25.shape)\n",
    "print(na26, na26.shape)"
   ]
  },
  {
   "cell_type": "code",
   "execution_count": 34,
   "metadata": {},
   "outputs": [
    {
     "name": "stdout",
     "output_type": "stream",
     "text": [
      "[[5 0 8]\n",
      " [6 0 7]]\n",
      "[[7 7]\n",
      " [1 3]\n",
      " [7 6]]\n",
      "[[0 8 8]\n",
      " [7 9 2]\n",
      " [5 1 1]]\n"
     ]
    }
   ],
   "source": [
    "# 10. concatenate\n",
    "# 각 axis를 따라 join (row, column의 개수가 맞아야함)\n",
    "co1 = np.random.randint(10, size=(2,3))\n",
    "co2 = np.random.randint(10, size=(3,2))\n",
    "co3 = np.random.randint(10, size=(3,3))\n",
    "print(co1, co2, co3, sep='\\n')"
   ]
  },
  {
   "cell_type": "code",
   "execution_count": 35,
   "metadata": {},
   "outputs": [
    {
     "name": "stdout",
     "output_type": "stream",
     "text": [
      "[[5 0 8]\n",
      " [6 0 7]\n",
      " [0 8 8]\n",
      " [7 9 2]\n",
      " [5 1 1]]\n",
      "[[7 7 0 8 8]\n",
      " [1 3 7 9 2]\n",
      " [7 6 5 1 1]]\n"
     ]
    }
   ],
   "source": [
    "co13 = np.concatenate((co1, co3)) # axis = 0\n",
    "co23 = np.concatenate((co2, co3), axis = 1)\n",
    "print(co13, co23, sep='\\n')"
   ]
  },
  {
   "cell_type": "code",
   "execution_count": 36,
   "metadata": {},
   "outputs": [
    {
     "name": "stdout",
     "output_type": "stream",
     "text": [
      "[[ 0  1  2  3]\n",
      " [ 4  5  6  7]\n",
      " [ 8  9 10 11]\n",
      " [12 13 14 15]]\n",
      "[[0 1 2 3]\n",
      " [4 5 6 7]]\n",
      "[[ 8  9 10 11]\n",
      " [12 13 14 15]]\n",
      "[[ 0  1]\n",
      " [ 4  5]\n",
      " [ 8  9]\n",
      " [12 13]]\n",
      "[[ 2  3]\n",
      " [ 6  7]\n",
      " [10 11]\n",
      " [14 15]]\n"
     ]
    }
   ],
   "source": [
    "# 11. split (vsplit, hsplit, axis)\n",
    "s1 = np.arange(16).reshape((4,4))\n",
    "s1v1, s1v2 = np.vsplit(s1,[2]) # (= np.split(s1,[2]))\n",
    "s1h1, s1h2 = np.hsplit(s1,[2]) # (= np.split(s1,[2], axis = 1))\n",
    "print(s1, s1v1, s1v2, s1h1, s1h2, sep = '\\n')"
   ]
  },
  {
   "cell_type": "code",
   "execution_count": 37,
   "metadata": {},
   "outputs": [
    {
     "name": "stdout",
     "output_type": "stream",
     "text": [
      "[[0 1 2 3]\n",
      " [4 5 6 7]]\n",
      "[[0 1 2 3]]\n"
     ]
    }
   ],
   "source": [
    "# 11-1. 다른 표현법들\n",
    "s2 = np.split(s1, [2])[0] # 2개 중 첫항만 나옴\n",
    "s3 = np.split(s1, [1,1])[0] # [1,1]처럼 다각도로 split 가능\n",
    "print(s2, s3, sep='\\n')"
   ]
  },
  {
   "cell_type": "markdown",
   "metadata": {},
   "source": [
    "### C random function\n",
    "+ random.seed(seed) : 랜덤 숫자를 만들기 전 처음 시작할 숫자 (알고리즘 시작값)\n",
    "+ random.rand(shape) : 0~1 사이의 균일 분포에서 추출\n",
    "+ random.randn(shape) : 가우시안 표준 정규분포에서 추출\n",
    "+ random.randint(low, high, size) : 최솟값 ~ 최댓값 사이에서 추출"
   ]
  },
  {
   "cell_type": "markdown",
   "metadata": {},
   "source": [
    "### D probability distribution function\n",
    "+ random.binomial(n, p, size) : 이항분포 (p<=1)\n",
    "+ random.chisquare(df, size) : 카이제곱분포\n",
    "+ random.exponential(scale, size): 지수분포\n",
    "+ random.f(dfnum, dfden, size) : F분포\n",
    "+ random.normal(loc, scale, size) : 정규분포 (가우시안)\n",
    "+ random.poisson(lam, size) : 포아송분포\n",
    "+ random.standard_t(df, size) : t분포 (자유도 df)\n",
    "+ random.standard_normal(size) : 표준정규분포 (mean=0, stdev=1)\n",
    "+ random.uniform(low, high, size) : 균일분포"
   ]
  },
  {
   "cell_type": "code",
   "execution_count": 39,
   "metadata": {},
   "outputs": [
    {
     "data": {
      "text/plain": [
       "array([[4, 4],\n",
       "       [5, 2],\n",
       "       [6, 6]])"
      ]
     },
     "execution_count": 39,
     "metadata": {},
     "output_type": "execute_result"
    }
   ],
   "source": [
    "# 예시 (사이즈를 이렇게 할 수도 있다)\n",
    "np.random.poisson(5, (3,2))"
   ]
  },
  {
   "cell_type": "markdown",
   "metadata": {},
   "source": [
    "### E operation function\n",
    "일반적으로 shape이 같아야 가능"
   ]
  },
  {
   "cell_type": "markdown",
   "metadata": {},
   "source": [
    "#### E-1 general operation\n",
    "if a = np.array([1,2,3]) and b = np.array([1,3,2])\n",
    "+ np.add(a,b) : a+b = array([2, 5, 5])\n",
    "+ np.subtract(a,b) : a-b = array([ 0, -1, 1])\n",
    "+ np.negative(a) : -a = array([-1, -2, -3])\n",
    "+ np.multiply(a,b) : a*b = array([1, 6, 6])\n",
    "+ np.divide(a,b) : a/b = array([1. , 0.66666667, 1.5 ])\n",
    "+ np.floor_divide(a,b) : a//b = array([1, 0, 1], dtype=int32)\n",
    "+ np.power(a,b) : a**b = array([1, 8, 9], dtype=int32)\n",
    "+ np.mod(a,b) : a%b = array([0, 2, 1], dtype=int32)\n",
    "+ np.equal(a,b) : a==b = array([ True, False, False])\n",
    "+ np.not_equal(a,b) : a!=b = array([False, True, True])\n",
    "+ np.less(a,b) : a < b = array([False, True, False])\n",
    "+ np.less_equal(a,b): a <= b = array([True, True, False])\n",
    "+ np.greater(a,b) : a > b = array([False, False, True])\n",
    "+ np.greater_equal(a,b) : a >= b = array([True, False, True])\n",
    "+ np.bitwise_and(a>=2, b<3) : (a>=2) & (b<3) = array([False, False, True])\n",
    "+ np.bitwise_or(a>=2, b<3) : (a>=2) | (b<3) = array([True, True, True])"
   ]
  },
  {
   "cell_type": "code",
   "execution_count": 40,
   "metadata": {},
   "outputs": [
    {
     "data": {
      "text/plain": [
       "935"
      ]
     },
     "execution_count": 40,
     "metadata": {},
     "output_type": "execute_result"
    }
   ],
   "source": [
    "# 내적곱 (Shape이 달라도 가능함)\n",
    "a = np.arange(1, 11)\n",
    "b = np.arange(11, 21)\n",
    "a.dot(b) # (=a@b)"
   ]
  },
  {
   "cell_type": "markdown",
   "metadata": {},
   "source": [
    "##### + Broadcasting\n",
    "스칼라의 경우 broadcasting으로 연산된다"
   ]
  },
  {
   "cell_type": "code",
   "execution_count": 41,
   "metadata": {},
   "outputs": [
    {
     "data": {
      "text/plain": [
       "array([ 1,  2,  3,  4,  5,  6,  7,  8,  9, 10])"
      ]
     },
     "execution_count": 41,
     "metadata": {},
     "output_type": "execute_result"
    }
   ],
   "source": [
    "sa = np.arange(10)\n",
    "sa + 1 # (= sa + np.ones(10))"
   ]
  },
  {
   "cell_type": "code",
   "execution_count": 42,
   "metadata": {},
   "outputs": [
    {
     "data": {
      "text/plain": [
       "array([ 0, 10, 20, 30, 40, 50, 60, 70, 80, 90])"
      ]
     },
     "execution_count": 42,
     "metadata": {},
     "output_type": "execute_result"
    }
   ],
   "source": [
    "sa * 10\n",
    "# (= sa + np.full(10,10))"
   ]
  },
  {
   "cell_type": "markdown",
   "metadata": {},
   "source": [
    "#### E-2 universal function\n",
    "original array에서 아래연산을 적용한 값이 나옴\n",
    "+ np.exp : exp값 반환\n",
    "+ np.log : 자연log값 반환 (ln(x))\n",
    "+ np.log10 : log10값 (log10(x))\n",
    "+ np.sqrt : 루트값 반환\n",
    "+ np.sin, np.cos, np.tan : sin, cos, tan값 반환\n",
    "+ np.rint : 반올림값 반환\n",
    "+ np.ceil : 올림값 반환\n",
    "+ np.floor : 내림값 반환\n",
    "+ np.abs : 절댓값 반환\n",
    "+ np.isnan : boolean (숫자면 False)\n",
    "+ np.isfinite, np.isinf : boolean (각각 유한, 무한)"
   ]
  },
  {
   "cell_type": "code",
   "execution_count": 43,
   "metadata": {},
   "outputs": [
    {
     "data": {
      "text/plain": [
       "array([1.        , 1.41421356, 1.73205081])"
      ]
     },
     "execution_count": 43,
     "metadata": {},
     "output_type": "execute_result"
    }
   ],
   "source": [
    "# Example\n",
    "e2a = np.array([1,2,3])\n",
    "np.sqrt(e2a)"
   ]
  },
  {
   "cell_type": "markdown",
   "metadata": {},
   "source": [
    "#### E-3 aggregation function\n",
    "axis = 0이면 세로방향, axis = 1이면 가로방향 (세로르 건들고 가로를 건드는 것) <br>\n",
    "axis가 없으면 전체\n",
    "+ np.sum(a[,axis]) : 합\n",
    "+ np.prod(a[,axis]) :곱\n",
    "+ np.mean(a[,axis]) : 평균\n",
    "+ np.std(a[,axis]) : 표준편차\n",
    "+ np.var(a[,axis]) : 분산\n",
    "+ np.min(a[,axis]) : 최솟값\n",
    "+ np.max(a[,axis]) : 최댓값\n",
    "+ np.median(a[,axis]) : 중간값\n",
    "+ np.percentile(a,q[,axis]) : 해당되는 %의 값\n",
    "+ np.any(a[,axis]) : 조건에 하나라도 맞으면 true\n",
    "+ np.all(a[,axis]) : 조건에 모든게 맞아야 true"
   ]
  },
  {
   "cell_type": "code",
   "execution_count": 44,
   "metadata": {},
   "outputs": [
    {
     "name": "stdout",
     "output_type": "stream",
     "text": [
      "[[1 2]\n",
      " [3 4]]\n",
      "[4 6]\n",
      "[3 7]\n"
     ]
    },
    {
     "data": {
      "text/plain": [
       "10"
      ]
     },
     "execution_count": 44,
     "metadata": {},
     "output_type": "execute_result"
    }
   ],
   "source": [
    "# Example\n",
    "e3a = np.arange(1,5).reshape(2,2)\n",
    "print(e3a)\n",
    "print(e3a.sum(axis = 0)) # 세로합 (=np.sum(e3a, axis = 0))\n",
    "print(e3a.sum(axis = 1)) # 가로합 (=np.sum(esa, axis = 1))\n",
    "np.sum(e3a)"
   ]
  },
  {
   "cell_type": "code",
   "execution_count": 45,
   "metadata": {},
   "outputs": [
    {
     "data": {
      "text/plain": [
       "array([[1.6, 2.6],\n",
       "       [2.4, 3.4]])"
      ]
     },
     "execution_count": 45,
     "metadata": {},
     "output_type": "execute_result"
    }
   ],
   "source": [
    "# percentile 활용법\n",
    "np.percentile(e3a, q=[30,70], axis = 0)"
   ]
  },
  {
   "cell_type": "code",
   "execution_count": 46,
   "metadata": {},
   "outputs": [
    {
     "name": "stdout",
     "output_type": "stream",
     "text": [
      "True\n",
      "False\n"
     ]
    }
   ],
   "source": [
    "# any & all\n",
    "print(np.any(e3a < 2))\n",
    "print(np.all(e3a < 2))"
   ]
  },
  {
   "cell_type": "markdown",
   "metadata": {},
   "source": [
    "#### E-4 sorting and searching function\n",
    "+ np.sort(a[,axis]) : 오름차순 정렬\n",
    "+ np.argsort(a[,axis]) : 오름차순 정렬한 것의 index를 반환 (original index) \n",
    "+ np.argmax(a[,axis]) : 최댓값의 original index\n",
    "+ np.argmin(a[,axis]) : 최솟값의 original index\n",
    "+ np.nonzero(a) : a에 해당하는 것만 반환\n",
    "+ np.where(condition, x, y) : 조건에 맞게 반환 (아래참고)"
   ]
  },
  {
   "cell_type": "code",
   "execution_count": 47,
   "metadata": {},
   "outputs": [
    {
     "name": "stdout",
     "output_type": "stream",
     "text": [
      "[-0.31611335 -0.63806863 -0.05842954  0.60465176 -0.54603012]\n",
      "[-0.63806863 -0.54603012 -0.31611335 -0.05842954  0.60465176]\n",
      "[1 4 0 2 3]\n",
      "3\n",
      "1\n",
      "(array([0, 1, 2, 3, 4], dtype=int64),)\n",
      "(array([0, 1, 2, 4], dtype=int64),)\n"
     ]
    }
   ],
   "source": [
    "# Examples\n",
    "ssf = np.random.randn(5)\n",
    "print(ssf)\n",
    "print(np.sort(ssf))\n",
    "print(np.argsort(ssf))\n",
    "print(np.argmax(ssf))\n",
    "print(np.argmin(ssf))\n",
    "print(np.nonzero(ssf)) # 그냥 ssf만 쓰면 0이 아닌 것을 반환\n",
    "print(np.nonzero(ssf < 0)) # 조건을 넣으면 조건 충족시 반환"
   ]
  },
  {
   "cell_type": "code",
   "execution_count": 48,
   "metadata": {},
   "outputs": [
    {
     "name": "stdout",
     "output_type": "stream",
     "text": [
      "[14 11 19  9  9]\n"
     ]
    },
    {
     "data": {
      "text/plain": [
       "(array([0, 1, 2], dtype=int64),)"
      ]
     },
     "execution_count": 48,
     "metadata": {},
     "output_type": "execute_result"
    }
   ],
   "source": [
    "# np.where(조건 충족 index를 반환)\n",
    "ssf2 = np.random.randint(1,20,5)\n",
    "print(ssf2)\n",
    "np.where(ssf2 > 10)"
   ]
  },
  {
   "cell_type": "code",
   "execution_count": 49,
   "metadata": {},
   "outputs": [
    {
     "data": {
      "text/plain": [
       "array(['O', 'O', 'O', 'X', 'X'], dtype='<U1')"
      ]
     },
     "execution_count": 49,
     "metadata": {},
     "output_type": "execute_result"
    }
   ],
   "source": [
    "# np.where(condition, True값, False값)\n",
    "np.where(ssf2 > 10, 'O', 'X')"
   ]
  },
  {
   "cell_type": "markdown",
   "metadata": {},
   "source": [
    "#### E-5 set logic function\n",
    "1차원 array에서만 사용가능\n",
    "+ np.unique(a) : unique한 값을 오름차순으로 정렬\n",
    "+ np.intersect1d(a, b) : 2개의 array에서 교집합을 오른차순으로 정렬\n",
    "+ np.union1d(a, b) : 합집합을 오름차순으로 정렬\n",
    "+ np.in1d(a, b) : b에 해당하는 원소가 a에도 있으면 True, 아니면 False"
   ]
  }
 ],
 "metadata": {
  "kernelspec": {
   "display_name": "Python 3",
   "language": "python",
   "name": "python3"
  },
  "language_info": {
   "codemirror_mode": {
    "name": "ipython",
    "version": 3
   },
   "file_extension": ".py",
   "mimetype": "text/x-python",
   "name": "python",
   "nbconvert_exporter": "python",
   "pygments_lexer": "ipython3",
   "version": "3.6.5"
  }
 },
 "nbformat": 4,
 "nbformat_minor": 2
}
