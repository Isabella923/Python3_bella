{
 "cells": [
  {
   "cell_type": "markdown",
   "metadata": {},
   "source": [
    "# Python Basics\n",
    "0. Google Colab intro\n",
    "1. 자료형 type\n",
    "2. 제어문 (if, while, for)\n",
    "3. 함수\n",
    "4. 여러 methods"
   ]
  },
  {
   "cell_type": "markdown",
   "metadata": {
    "colab_type": "text",
    "id": "IZLfq1gYsiDI"
   },
   "source": [
    "## 00 Google Colab intro\n",
    "Jupyter notebook에서는 그냥 진행하면 된다 <br>\n",
    "Colab에서는 google drive에 data를 업로드 한 후, 마운트(mount)를 해줘야 사용가능"
   ]
  },
  {
   "cell_type": "code",
   "execution_count": 0,
   "metadata": {
    "colab": {
     "base_uri": "https://localhost:8080/",
     "height": 121
    },
    "colab_type": "code",
    "id": "FF9KrJD7tArN",
    "outputId": "53a6a67d-7c34-43ba-e8bb-3a254bbdfd95"
   },
   "outputs": [
    {
     "name": "stdout",
     "output_type": "stream",
     "text": [
      "Go to this URL in a browser: https://accounts.google.com/o/oauth2/auth?client_id=947318989803-6bn6qk8qdgf4n4g3pfee6491hc0brc4i.apps.googleusercontent.com&redirect_uri=urn%3aietf%3awg%3aoauth%3a2.0%3aoob&response_type=code&scope=email%20https%3a%2f%2fwww.googleapis.com%2fauth%2fdocs.test%20https%3a%2f%2fwww.googleapis.com%2fauth%2fdrive%20https%3a%2f%2fwww.googleapis.com%2fauth%2fdrive.photos.readonly%20https%3a%2f%2fwww.googleapis.com%2fauth%2fpeopleapi.readonly\n",
      "\n",
      "Enter your authorization code:\n",
      "··········\n",
      "Mounted at /content/gdrive\n"
     ]
    }
   ],
   "source": [
    "# Google Drive Mount\n",
    "from google.colab import auth\n",
    "auth.authenticate_user()\n",
    "\n",
    "from google.colab import drive\n",
    "drive.mount('/content/gdrive')"
   ]
  },
  {
   "cell_type": "code",
   "execution_count": 0,
   "metadata": {
    "colab": {
     "base_uri": "https://localhost:8080/",
     "height": 128
    },
    "colab_type": "code",
    "id": "P-jjRq_3thkU",
    "outputId": "9d87452d-4d31-4cf3-ea84-4efd1506bda1"
   },
   "outputs": [
    {
     "ename": "SyntaxError",
     "evalue": "ignored",
     "output_type": "error",
     "traceback": [
      "\u001b[0;36m  File \u001b[0;32m\"<ipython-input-8-8815eec53c50>\"\u001b[0;36m, line \u001b[0;32m2\u001b[0m\n\u001b[0;31m    cd gdrive/My Drive/\u001b[0m\n\u001b[0m            ^\u001b[0m\n\u001b[0;31mSyntaxError\u001b[0m\u001b[0;31m:\u001b[0m invalid syntax\n"
     ]
    }
   ],
   "source": [
    "# Change Directory to Google Drive\n",
    "cd gdrive/My Drive/"
   ]
  },
  {
   "cell_type": "markdown",
   "metadata": {
    "colab_type": "text",
    "id": "fxHUN3f25GiI"
   },
   "source": [
    "### + 단축키 & tip\n",
    "+ Ctrl + M + A : 바로 위에 새로운 Cell 생성\n",
    "+ Ctrl + M + B : 바로 밑에 새로운 Cell 생성\n",
    "+ Ctrl + M + D : 해당 셀을 삭제합니다.\n",
    "+ Ctrl + M + Z : 삭제한 셀을 다시 생성\n",
    "+ Ctrl + M + Y : 셀을 Python Code 셀로 지정\n",
    "+ Ctrl + M + M : 셀을 글 작성을 위한 Markdown 셀로 지정\n",
    "+ Shift + Enter : 해당 셀 실행\n",
    "+ tab : 변수이름 자동완성 & parameter 값 보기"
   ]
  },
  {
   "cell_type": "markdown",
   "metadata": {
    "colab_type": "text",
    "id": "W424BYRStpuM"
   },
   "source": [
    "### + 입출력 기본\n",
    "1. a = input( ) _ 이 때, 입력값은 문자열 취급\n",
    "2. print(\"A\" \"B\") = print(\"A\"+\"B\")\n",
    "3. 문자열 띄어쓰기 : comma(,) 이용\n",
    "4. end= ' ' : 다음 줄로 넘기지 않고 그 줄 계속 출력"
   ]
  },
  {
   "cell_type": "markdown",
   "metadata": {
    "colab_type": "text",
    "id": "yV8nR-VWXg-F"
   },
   "source": [
    "### + GPU와 CPU의 차이\n",
    "+ CPU : 직렬처리로 최적화된 몇 개의 코어로 구성 <br>\n",
    "+ GPU : 병렬처리에 사용되며 수 천개의 코어로 구성 - 딥러닝 학습 및 활용 속도에 매우매우 큰 영향"
   ]
  },
  {
   "cell_type": "markdown",
   "metadata": {
    "colab_type": "text",
    "id": "LljUWH15Xg-I"
   },
   "source": [
    "### + 참고사이트 목록\n",
    "+ [codecademy](https://www.codecademy.com/learn/learn-python) : 직접 코드를 실행시켜가면서 배우는 온라인 파이썬 강의\n",
    "+ [DataCamp](https://campus.datacamp.com/courses/intro-to-python-for-data-science/) : 데이터 분석을 위한 파이썬을 압축적으로 들을 수 있는 강의\n",
    "+ [Programmers - Python 입문](https://programmers.co.kr/learn/courses/2) : 온라인 강의를 듣고 관련된 코드를 바로 연습해볼 수 있는 사이트\n",
    "+ https://gist.github.com/ihoneymon/652be052a0727ad59601 : 마크다운 사용법"
   ]
  },
  {
   "cell_type": "markdown",
   "metadata": {
    "colab_type": "text",
    "id": "pwBtt2xdz5uy"
   },
   "source": [
    "## 01 자료형 type"
   ]
  },
  {
   "cell_type": "markdown",
   "metadata": {
    "colab_type": "text",
    "id": "AsXrck7d0jTy"
   },
   "source": [
    "### A. 숫자형\n",
    "1. integer : 정수 <br>\n",
    "    Ep_ int()로 사용 <br>\n",
    "2. float : 실수 <br>\n",
    "    Ep_ float()으로 사용 <br>\n",
    "3. complex : 복소수 <br>\n",
    "    Ex_ 1 + 4j \n",
    "4. 8진수 & 16진수 <br>\n",
    "    Ex_ 0o177 & 0x2A 등 (숫자0 + 각각 알파벳 o or x 사용)<br>    \n",
    "    <b>operators:</b> +, -, *, /, %, **, // (+=, /= 처럼 사용가능)"
   ]
  },
  {
   "cell_type": "code",
   "execution_count": 1,
   "metadata": {
    "colab": {
     "base_uri": "https://localhost:8080/",
     "height": 84
    },
    "colab_type": "code",
    "id": "VhrtLlgCz5u8",
    "outputId": "f4a74884-bc85-47a6-d058-7451f854b8d6"
   },
   "outputs": [
    {
     "name": "stdout",
     "output_type": "stream",
     "text": [
      "2.0\n",
      "3.0\n",
      "(2-3j)\n"
     ]
    },
    {
     "data": {
      "text/plain": [
       "3.605551275463989"
      ]
     },
     "execution_count": 1,
     "metadata": {},
     "output_type": "execute_result"
    }
   ],
   "source": [
    "# A.3. complex\n",
    "a = 2 + 3j\n",
    "print(a.real)                  #실수부분 리턴\n",
    "print(a.imag)                #허수부분 리턴\n",
    "print(a.conjugate())      #켤레복소수 리턴\n",
    "abs(a)                          #절댓값 리턴"
   ]
  },
  {
   "cell_type": "code",
   "execution_count": 2,
   "metadata": {
    "colab": {
     "base_uri": "https://localhost:8080/",
     "height": 34
    },
    "colab_type": "code",
    "id": "IhtY8SANz5vS",
    "outputId": "28066858-c580-4670-ef7b-b2b865914c76"
   },
   "outputs": [
    {
     "data": {
      "text/plain": [
       "2.5"
      ]
     },
     "execution_count": 2,
     "metadata": {},
     "output_type": "execute_result"
    }
   ],
   "source": [
    "# 숫자형 operators example (+= 등 처럼 사용하는 경우)\n",
    "b = 5\n",
    "b /= 2\n",
    "b"
   ]
  },
  {
   "cell_type": "markdown",
   "metadata": {
    "colab_type": "text",
    "id": "BCzZuslSz5ve"
   },
   "source": [
    "#### + math 모듈\n",
    "+ ceil(x) : 올림 <br>\n",
    "+ factorial(x) : x! <br>\n",
    "+ floor(x) : 내림 <br>\n",
    "+ exp(x) : e**x <br>\n",
    "+ log(x,base) : log(base)(x) <br>\n",
    "+ log10(x) : 상용로그 <br>\n",
    "+ sqrt(x) : root(x) 값 <br>\n",
    "+ cos(x), sin(x), tan(x) <br>\n",
    "+ pi, e <br>"
   ]
  },
  {
   "cell_type": "code",
   "execution_count": 3,
   "metadata": {
    "colab": {
     "base_uri": "https://localhost:8080/",
     "height": 34
    },
    "colab_type": "code",
    "id": "Z0Sozgufz5vi",
    "outputId": "3c1e6778-ab8c-4f2a-8a90-a8fa5652613e"
   },
   "outputs": [
    {
     "data": {
      "text/plain": [
       "3.141592653589793"
      ]
     },
     "execution_count": 3,
     "metadata": {},
     "output_type": "execute_result"
    }
   ],
   "source": [
    "import math\n",
    "math.pi"
   ]
  },
  {
   "cell_type": "markdown",
   "metadata": {
    "colab_type": "text",
    "id": "o0rAYo5t146z"
   },
   "source": [
    "### B. Boolean\n",
    "1. True / False <br>\n",
    "<b>operators:</b> ==, !=, >, < >=, <=, is, is not, in, not in, and, or, not <br>\n",
    "2. while, if, for 등 함수에서 응용"
   ]
  },
  {
   "cell_type": "markdown",
   "metadata": {
    "colab_type": "text",
    "id": "TDSAZFtW2z41"
   },
   "source": [
    "### C. 문자열 자료형\n",
    "1. string\n",
    "2. list\n",
    "3. tuple\n",
    "4. dictionary\n",
    "5. set"
   ]
  },
  {
   "cell_type": "markdown",
   "metadata": {
    "colab_type": "text",
    "id": "pfFWV_Kqz5vw"
   },
   "source": [
    "#### C-1 string\n",
    "immutable object이므로 수정한 내용이 original string에 업데이트되지 않음 <br>\n",
    "1. str() : string으로 변환\n",
    "2. indexing : x[0] <br>\n",
    "3. slicing : [a:b:c] a부터 b바로 전까지 c간격으로 <br>\n",
    "Ex_ x[:], x[::-1], x[5:1:-2] <br>\n",
    "Ep_ silcing활용 => print(text[-5:] + \"a\" + text[:-1])\n",
    "4. operators : +, -, in, not in\n",
    "5. % : 나머지 반환\n",
    "6. // : 몫 반환\n",
    "7. \"\"\" \"\"\" : 줄바꿈할 때 쓰임"
   ]
  },
  {
   "cell_type": "markdown",
   "metadata": {
    "colab_type": "text",
    "id": "8S3cQY7oz5v2"
   },
   "source": [
    "##### + string method\n",
    "+ len(x) : x의 길이 <br>\n",
    "+ x.find(str) : 해당 str의 index를 반환 (없으면 '-1'을 반환) <br>\n",
    "+ x.index(str) : 해당 str의 index를 반환 (없으면 오류) <br>\n",
    "+ x.count(str) : 해당 str의 개수 <br>\n",
    "+ x.capitalize() : 첫번째 문자를 대문자로 변환 <br>\n",
    "+ x.lower() : 소문자 만들기 <br>\n",
    "+ x.upper() : 대문자 만들기 <br>\n",
    "+ x.lstrip() : 왼쪽 공백 없애기 <br>\n",
    "+ x.rstrip() : 오른쪽 공백 없애기 <br>\n",
    "+ x.strip : 양쪽 공백 없애기 <br>\n",
    "+ x.split(str) : 해당 str을 기준으로 앞과 뒤로 나눔 <br>\n",
    "+ x.replace(old, new) : old string을 new string으로 바꿔줌 <br>\n",
    "+ x.startswith(str) : 해당 str으로 시작하면 True, 아니면 False <br>\n",
    "+ x.endswith(str) : 해당 str으로 끝나면 True, 아니면 False <br>\n",
    "+ xisalpha : string이 모두 alphabet이면 True, 아니면 False <br>\n",
    "+ x.isnumeric : string이 모두 number이면 True, 아니면 False <br>\n",
    "+ x.isalnum : string이 모두 alphabet, number이면 True, 아니면 False <br>\n",
    "+ \" \".join(str) : str 사이사이에 \" \" 안에 있는 것을 삽입 <br>\n",
    "+ sorted(str) : str을 알파벳순으로 정렬 (띄어쓰기는 맨앞) <br>"
   ]
  },
  {
   "cell_type": "code",
   "execution_count": 4,
   "metadata": {
    "colab": {
     "base_uri": "https://localhost:8080/",
     "height": 34
    },
    "colab_type": "code",
    "id": "WdVBn-89z5v6",
    "outputId": "9bd25c2d-7538-4ff3-ba09-1cd0197c41d1"
   },
   "outputs": [
    {
     "data": {
      "text/plain": [
       "['W', 'nn', ' be h', 'ppy']"
      ]
     },
     "execution_count": 4,
     "metadata": {},
     "output_type": "execute_result"
    }
   ],
   "source": [
    "# split 사용법\n",
    "str1 = \"Wanna be happy\"\n",
    "str1.split('a')"
   ]
  },
  {
   "cell_type": "code",
   "execution_count": 5,
   "metadata": {
    "colab": {
     "base_uri": "https://localhost:8080/",
     "height": 34
    },
    "colab_type": "code",
    "id": "L6u60oVI8SlG",
    "outputId": "80f4ff20-772d-43f4-efe4-c90c871092af"
   },
   "outputs": [
    {
     "data": {
      "text/plain": [
       "'w,i,l,l'"
      ]
     },
     "execution_count": 5,
     "metadata": {},
     "output_type": "execute_result"
    }
   ],
   "source": [
    "# join 사용법\n",
    "str2 = \",\".join('will')\n",
    "str2"
   ]
  },
  {
   "cell_type": "markdown",
   "metadata": {
    "colab_type": "text",
    "id": "xW8xVixiz5wK"
   },
   "source": [
    "##### + escape code\n",
    "+ \\n : 줄바꿈 <br>\n",
    "+ \\t : 탭간격 <br>\n",
    "+ \\\\\\ : 문자 \\ 표현 <br>\n",
    "+ \\\\', \\\\\" : 따옴표 표현"
   ]
  },
  {
   "cell_type": "code",
   "execution_count": 6,
   "metadata": {
    "colab": {
     "base_uri": "https://localhost:8080/",
     "height": 67
    },
    "colab_type": "code",
    "id": "9AlyGYcPz5wQ",
    "outputId": "80648f3b-639f-44a5-9ae2-4ab526165e2e"
   },
   "outputs": [
    {
     "name": "stdout",
     "output_type": "stream",
     "text": [
      "Can\n",
      "You\n",
      "Guess?\n"
     ]
    }
   ],
   "source": [
    "# sep= 이용법\n",
    "print('Can', 'You', 'Guess?', sep=\"\\n\")"
   ]
  },
  {
   "cell_type": "markdown",
   "metadata": {
    "colab_type": "text",
    "id": "eUC7f2ob_HZZ"
   },
   "source": [
    "##### + formatting <br>\n",
    "1) % 사용\n",
    "+ %s : 문자열 formatting\n",
    "+ %c : 문자 1개 formatting\n",
    "+ %d : 정수 formatting\n",
    "+ %f : 소수 formatting\n",
    "+ %% : 문자 % 구현 <br>\n",
    "\n",
    "2) format 함수\n",
    "+ str.format() : 함수를 이용한 formatting 방법\n",
    "+ {{  }}.format() : 중괄호 {  } 구현\n",
    "\n",
    "3) f 문자열\n",
    "+ f\"str\" : format 함수와 비슷하게 적용되는 formatting 방법\n",
    "+ f{{  }} : 중괄호 {  } 구현\n",
    "\n",
    "4) 정렬 & 공백 (소수점 나타내기)\n",
    "+ %숫자s : 오른쪽 정렬, 나머지는 숫자만큼 공백\n",
    "+ %-숫자s : 왼쪽 정렬, 나머지는 숫자만큼 공백\n",
    "+ %.숫자f : 소수점 표현\n",
    "+ \"{0:>10}\".format() : 오른쪽 정렬\n",
    "+ \"{0:<10}\".format() : 왼쪽 정렬\n",
    "+ \"{0:^10}\".format() : 가운데 정렬\n",
    "+ \"{0:a^10}\".format() : 공백을 a로 채움\n",
    "+ \"{0:.숫자f}\".format() : 소수점  표현\n",
    "+ format 함수의 '0' 위치에 str 등을 넣으면 같은 결과\n"
   ]
  },
  {
   "cell_type": "code",
   "execution_count": 7,
   "metadata": {
    "colab": {
     "base_uri": "https://localhost:8080/",
     "height": 34
    },
    "colab_type": "code",
    "id": "klnNlSMvANzG",
    "outputId": "304f0cbc-7786-4dd2-963d-d675ead50100"
   },
   "outputs": [
    {
     "data": {
      "text/plain": [
       "'I ate 3 apples on sunday morning'"
      ]
     },
     "execution_count": 7,
     "metadata": {},
     "output_type": "execute_result"
    }
   ],
   "source": [
    "# % 두개 넣는 예시\n",
    "n = 3\n",
    "day = 'sunday'\n",
    "for1 = \"I ate %d apples on %s morning\" % (n,day)\n",
    "for1"
   ]
  },
  {
   "cell_type": "code",
   "execution_count": 8,
   "metadata": {
    "colab": {
     "base_uri": "https://localhost:8080/",
     "height": 34
    },
    "colab_type": "code",
    "id": "sqpwMv6mApXi",
    "outputId": "b1662f18-4998-40aa-caea-82ca0649ad04"
   },
   "outputs": [
    {
     "data": {
      "text/plain": [
       "'It is 90% off now!'"
      ]
     },
     "execution_count": 8,
     "metadata": {},
     "output_type": "execute_result"
    }
   ],
   "source": [
    "# 문자 % 표시법\n",
    "for2 = \"It is %d%% off now!\" % 90\n",
    "for2"
   ]
  },
  {
   "cell_type": "code",
   "execution_count": 9,
   "metadata": {
    "colab": {
     "base_uri": "https://localhost:8080/",
     "height": 34
    },
    "colab_type": "code",
    "id": "N0n_VkdFCMUY",
    "outputId": "797d384e-2f95-4396-fd91-aef01da6d339"
   },
   "outputs": [
    {
     "data": {
      "text/plain": [
       "'I need 3 more pens right now.'"
      ]
     },
     "execution_count": 9,
     "metadata": {},
     "output_type": "execute_result"
    }
   ],
   "source": [
    "# format 함수 예시\n",
    "for3 = \"I need {} more pens right {}.\" .format(3,'now')\n",
    "for3"
   ]
  },
  {
   "cell_type": "code",
   "execution_count": 10,
   "metadata": {
    "colab": {
     "base_uri": "https://localhost:8080/",
     "height": 34
    },
    "colab_type": "code",
    "id": "JDeex114CqBQ",
    "outputId": "bf887e8f-aa04-4210-dd95-cba9042ae8aa"
   },
   "outputs": [
    {
     "data": {
      "text/plain": [
       "'Do you believe me?'"
      ]
     },
     "execution_count": 10,
     "metadata": {},
     "output_type": "execute_result"
    }
   ],
   "source": [
    "# format에서 이름으로 넣기\n",
    "for4 = 'Do you {a} me?' .format(a='believe')\n",
    "for4"
   ]
  },
  {
   "cell_type": "code",
   "execution_count": 11,
   "metadata": {
    "colab": {
     "base_uri": "https://localhost:8080/",
     "height": 34
    },
    "colab_type": "code",
    "id": "9iDMn0RgDFFF",
    "outputId": "1a0d3f53-2391-4516-8d1e-a1544d3f9d7d"
   },
   "outputs": [
    {
     "data": {
      "text/plain": [
       "\"OMG, I'll be 23 years old next year.\""
      ]
     },
     "execution_count": 11,
     "metadata": {},
     "output_type": "execute_result"
    }
   ],
   "source": [
    "# f 문자열 예시\n",
    "age = 22\n",
    "for5 = f\"OMG, I'll be {age + 1} years old next year.\"\n",
    "for5"
   ]
  },
  {
   "cell_type": "code",
   "execution_count": 12,
   "metadata": {
    "colab": {
     "base_uri": "https://localhost:8080/",
     "height": 34
    },
    "colab_type": "code",
    "id": "KKt3Ro73EeE5",
    "outputId": "64ed0a61-aacd-4f1e-bfb2-c207348873af"
   },
   "outputs": [
    {
     "data": {
      "text/plain": [
       "'Your      grade is 95.38.'"
      ]
     },
     "execution_count": 12,
     "metadata": {},
     "output_type": "execute_result"
    }
   ],
   "source": [
    "# 정렬, 공백, 소수점 (%)\n",
    "blank1 = \"Your %10s is %.2f.\" % ('grade', 95.38492)\n",
    "blank1"
   ]
  },
  {
   "cell_type": "code",
   "execution_count": 13,
   "metadata": {
    "colab": {
     "base_uri": "https://localhost:8080/",
     "height": 34
    },
    "colab_type": "code",
    "id": "emRGStqDFE3Y",
    "outputId": "90275da5-91db-4888-be91-67bab314f5e0"
   },
   "outputs": [
    {
     "data": {
      "text/plain": [
       "'Isabella!!'"
      ]
     },
     "execution_count": 13,
     "metadata": {},
     "output_type": "execute_result"
    }
   ],
   "source": [
    "# 정렬, 공백, 소수점 (format 함수)\n",
    "blank2 = \"{0:!<10}\".format(\"Isabella\")\n",
    "blank2"
   ]
  },
  {
   "cell_type": "code",
   "execution_count": 14,
   "metadata": {
    "colab": {
     "base_uri": "https://localhost:8080/",
     "height": 34
    },
    "colab_type": "code",
    "id": "6qsVFt1lH1Xk",
    "outputId": "ac2d4c9a-ace8-435f-8888-07da6015dcfc"
   },
   "outputs": [
    {
     "data": {
      "text/plain": [
       "'90.342'"
      ]
     },
     "execution_count": 14,
     "metadata": {},
     "output_type": "execute_result"
    }
   ],
   "source": [
    " # 정렬, 공백, 소수점 (format 함수) _ :와 .사이에 '0' 넣어도 same result\n",
    " x = 90.3423587\n",
    " blank3 = \"{0:.3f}\".format(x)\n",
    " blank3"
   ]
  },
  {
   "cell_type": "code",
   "execution_count": 15,
   "metadata": {
    "colab": {
     "base_uri": "https://localhost:8080/",
     "height": 34
    },
    "colab_type": "code",
    "id": "3KKCPx4-FE00",
    "outputId": "8afe1338-455d-453f-a260-ee26d580d542"
   },
   "outputs": [
    {
     "data": {
      "text/plain": [
       "'**^^**'"
      ]
     },
     "execution_count": 15,
     "metadata": {},
     "output_type": "execute_result"
    }
   ],
   "source": [
    "# 정렬, 공백, 소수점 (f 문자열)\n",
    "blank4 = f'{\"^^\":*^6}'\n",
    "blank4"
   ]
  },
  {
   "cell_type": "markdown",
   "metadata": {
    "colab_type": "text",
    "id": "KHaGHOpaz5wi"
   },
   "source": [
    "#### C-2 list\n",
    "mutable object이므로 수정시 바로 original list에 업데이트 됨\n",
    "1. list() or [] : list로 변환 (a = list() _ 빈 리스트)\n",
    "2. indexing & slicing <br>\n",
    "Ep_string과 동일 <br> \n",
    "Ep_Multidimensional lists : x[0][0], x[1][1:3]\n",
    "3. operators : +, *, in (type 맞춰주기)"
   ]
  },
  {
   "cell_type": "code",
   "execution_count": 16,
   "metadata": {
    "colab": {
     "base_uri": "https://localhost:8080/",
     "height": 34
    },
    "colab_type": "code",
    "id": "Dg-RlcnJJzFA",
    "outputId": "46344614-3251-4871-e8b0-d0fbec58a529"
   },
   "outputs": [
    {
     "data": {
      "text/plain": [
       "['a', 'b']"
      ]
     },
     "execution_count": 16,
     "metadata": {},
     "output_type": "execute_result"
    }
   ],
   "source": [
    "# multidimensional lists\n",
    "a = [1, 2, 3, ['a', 'b', 'c'], 4, 5]\n",
    "a[3][:2]"
   ]
  },
  {
   "cell_type": "markdown",
   "metadata": {
    "colab_type": "text",
    "id": "8LnT1BaDamWR"
   },
   "source": [
    "##### + list method\n",
    "+ len(x) : list(x)의 길이\n",
    "+ min(x) : 최소값 반환\n",
    "+ max(x) : 최댓값 반환\n",
    "+ del x[ ] : 해당 요소 삭제 ([ ]안에 슬라이싱(:)도 가능)\n",
    "+ x.append(value) : list 맨끝에 value 추가\n",
    "+ x.extend(list) : list를 추가\n",
    "+ x.pop(index) : 해당 index에 있는 value를 돌려주고 삭제 (x.pop() = 맨 마지막 삭제)\n",
    "+ x.remove(value) : list에서 맨 첫번째에 나오는 value 삭제\n",
    "+ x.count(value) : value 개수 반환\n",
    "+ x.insert(index, value) : 해당 index에 value 삽입\n",
    "+ x.index(value) : value 위치 반환 (lowest number)\n",
    "+ x.sort() : 순서대로 정렬\n",
    "+ x.reverse() : 역순 정렬 "
   ]
  },
  {
   "cell_type": "code",
   "execution_count": 17,
   "metadata": {
    "colab": {
     "base_uri": "https://localhost:8080/",
     "height": 34
    },
    "colab_type": "code",
    "id": "12qtuJMdfn3i",
    "outputId": "8d81b69a-303b-4bb1-da54-961837d86695"
   },
   "outputs": [
    {
     "data": {
      "text/plain": [
       "[1, 2, 0, 4, 5]"
      ]
     },
     "execution_count": 17,
     "metadata": {},
     "output_type": "execute_result"
    }
   ],
   "source": [
    "# 요소 change\n",
    "a = [1,2,3,4,5]\n",
    "a[2] = 0\n",
    "a"
   ]
  },
  {
   "cell_type": "code",
   "execution_count": 18,
   "metadata": {
    "colab": {
     "base_uri": "https://localhost:8080/",
     "height": 34
    },
    "colab_type": "code",
    "id": "2XxdfmBCS0ZF",
    "outputId": "c38dfa5a-0d95-4f1f-d9df-8436b3e0c345"
   },
   "outputs": [
    {
     "data": {
      "text/plain": [
       "[1, 2, 3, 4, 5, 6, 7]"
      ]
     },
     "execution_count": 18,
     "metadata": {},
     "output_type": "execute_result"
    }
   ],
   "source": [
    "# extend 예시\n",
    "a = [1,2,3]\n",
    "b = [4,5]\n",
    "c = [6,7]\n",
    "a.extend(b)\n",
    "a += c\n",
    "a"
   ]
  },
  {
   "cell_type": "markdown",
   "metadata": {
    "colab_type": "text",
    "id": "PB4kFNyffevw"
   },
   "source": [
    "##### + copying list\n",
    "그냥 copy해서 수정하면 원본이 아예 바뀌어버림<br>\n",
    "본래list[:] 해서 copy하면, copy 수정 시 원본이 바뀌지 않음"
   ]
  },
  {
   "cell_type": "code",
   "execution_count": 19,
   "metadata": {
    "colab": {
     "base_uri": "https://localhost:8080/",
     "height": 50
    },
    "colab_type": "code",
    "id": "Bu9864IqgIlZ",
    "outputId": "d1fa0633-71f9-4e00-e94a-97a9e70471f2"
   },
   "outputs": [
    {
     "name": "stdout",
     "output_type": "stream",
     "text": [
      "[1, 3, 5, 7, 9, 11]\n",
      "[1, 3, 5, 7, 9, 11]\n"
     ]
    }
   ],
   "source": [
    "# list copy하기 (No)\n",
    "nlist = [1,3,5,7,9]\n",
    "nlist_copy = nlist\n",
    "nlist_copy.append(11)\n",
    "print(nlist)\n",
    "print(nlist_copy)"
   ]
  },
  {
   "cell_type": "code",
   "execution_count": 20,
   "metadata": {
    "colab": {
     "base_uri": "https://localhost:8080/",
     "height": 50
    },
    "colab_type": "code",
    "id": "iV367wW4gt9A",
    "outputId": "bef9d06e-dac4-41b7-f094-e45436b6d737"
   },
   "outputs": [
    {
     "name": "stdout",
     "output_type": "stream",
     "text": [
      "[1, 3, 5, 7, 9]\n",
      "[1, 3, 5, 7, 9, 11]\n"
     ]
    }
   ],
   "source": [
    "# list copy하기 (Yes)\n",
    "nlist = [1,3,5,7,9]\n",
    "nlist_realcopy = nlist[:]\n",
    "nlist_realcopy.append(11)\n",
    "print(nlist)\n",
    "print(nlist_realcopy)"
   ]
  },
  {
   "cell_type": "markdown",
   "metadata": {
    "colab_type": "text",
    "id": "EGfPvrgsz5wo"
   },
   "source": [
    "#### C-3 tuple\n",
    "immutable object이므로 수정한 내용이 original tuple에 업데이트되지 않음<br>\n",
    "1. () or tuple()로 나타냄\n",
    "2. 요소가 하나일 때 맨 끝에 comma(,)를 써주어야 함\n",
    "3. 괄호를 적지 않아도 comma(,)로 나열하면 tuple로 인식\n",
    "4. operators = +, *, in\n",
    "5. tuple은 수정이 불가함 (추가, 삭제 등의 메소드 사용 불가능)\n",
    "6. indexing, slicing은 가능함\n"
   ]
  },
  {
   "cell_type": "markdown",
   "metadata": {
    "colab_type": "text",
    "id": "K-hjo4vehPYP"
   },
   "source": [
    "##### + tuple method\n",
    "+ len(x) : tuple의 길이 반환\n",
    "+ max(x) : 최대값 반환\n",
    "+ min(x) : 최솟값 반환\n",
    "+ x.index(value) : value 위치 반환 (lowest)\n",
    "+ x.count(value) : value 개수 반환"
   ]
  },
  {
   "cell_type": "markdown",
   "metadata": {
    "colab_type": "text",
    "id": "rCnldFB5z5ws"
   },
   "source": [
    "#### C-4 dictionary\n",
    "mutable object이므로 수정시 바로 original dict에 업데이트 됨\n",
    "1. {key:value}의 형태로, {} or dict()로 나타냄\n",
    "2. key : immutable data type (str, num, tuple 등), 그리고 unique\n",
    "3. value : any type, unique 안해도 OK\n",
    "4. indexing, slicing 불가"
   ]
  },
  {
   "cell_type": "code",
   "execution_count": 21,
   "metadata": {
    "colab": {
     "base_uri": "https://localhost:8080/",
     "height": 50
    },
    "colab_type": "code",
    "id": "a5zd2jXrkYgi",
    "outputId": "c8a557de-d113-4a26-f3cf-82828ad53610"
   },
   "outputs": [
    {
     "name": "stdout",
     "output_type": "stream",
     "text": [
      "{1: 2, 3: 4, 5: 6}\n",
      "{1: 2, 3: 4, 5: 6}\n"
     ]
    }
   ],
   "source": [
    "# two-value sequences를 dict으로 만들기\n",
    "a = [(1,2),(3,4),(5,6)]\n",
    "b = [[1,2],[3,4],[5,6]]\n",
    "print(dict(a), dict(b), sep=\"\\n\")"
   ]
  },
  {
   "cell_type": "markdown",
   "metadata": {
    "colab_type": "text",
    "id": "RrNVspGelRB4"
   },
   "source": [
    "##### + dictionary method\n",
    "+ dict['key'] : 해당 key의 value를 반환\n",
    "+ dict['key'] = value : 새로 한 쌍이 추가됨 (이미 있는 key면 value만 업뎃)\n",
    "+ key in / not in dict : 있으면 True, 없으면 False\n",
    "+ len(dict) : 길이 반환 (한쌍으로)\n",
    "+ del dict['key'] : 해당 key의 한쌍 삭제\n",
    "+ dict.clear() : 모두 삭제\n",
    "+ dict.items() : 모든 쌍을 tuple로 반환\n",
    "+ dict.keys() : 모든 key들을 list로 반환\n",
    "+ dict.values() : 모든 value들을 list로 반환\n",
    "+ dict.update(dict2) : dict2를 dict에 추가 (key 겹칠 시, dict2 value값 사용)\n",
    "+ dict.get('key', 디폴트) : 해당 key가 없을 시 디폴트 값을 반환"
   ]
  },
  {
   "cell_type": "code",
   "execution_count": 22,
   "metadata": {
    "colab": {
     "base_uri": "https://localhost:8080/",
     "height": 34
    },
    "colab_type": "code",
    "id": "I5qRcnPXm1zS",
    "outputId": "c254e587-5c81-41a6-ec40-a0fa2e564191"
   },
   "outputs": [
    {
     "data": {
      "text/plain": [
       "{'a': 2, 'b': 3}"
      ]
     },
     "execution_count": 22,
     "metadata": {},
     "output_type": "execute_result"
    }
   ],
   "source": [
    "# 새로 추가하기\n",
    "dict1 = {'a' : 1}\n",
    "dict1['a'] = 2\n",
    "dict1['b'] = 3\n",
    "dict1"
   ]
  },
  {
   "cell_type": "code",
   "execution_count": 23,
   "metadata": {
    "colab": {
     "base_uri": "https://localhost:8080/",
     "height": 34
    },
    "colab_type": "code",
    "id": "0zkkYYJxoAnj",
    "outputId": "177951ad-1fec-4b89-ad46-14cfe85c45e7"
   },
   "outputs": [
    {
     "data": {
      "text/plain": [
       "dict_items([('A', 'a'), ('B', 'b')])"
      ]
     },
     "execution_count": 23,
     "metadata": {},
     "output_type": "execute_result"
    }
   ],
   "source": [
    "# item() 활용\n",
    "dict2 = {'A' : 'a', 'B' : 'b'}\n",
    "dict2.items()"
   ]
  },
  {
   "cell_type": "code",
   "execution_count": 24,
   "metadata": {
    "colab": {
     "base_uri": "https://localhost:8080/",
     "height": 50
    },
    "colab_type": "code",
    "id": "gMEe1TZlp-j6",
    "outputId": "4dcef546-c2ae-42d1-e869-115cb0b474ac"
   },
   "outputs": [
    {
     "name": "stdout",
     "output_type": "stream",
     "text": [
      "1\n",
      "No\n"
     ]
    }
   ],
   "source": [
    "# get() 활용\n",
    "dict3 = {\"Q\" : 1, \"W\" : 2}\n",
    "print(dict3.get(\"Q\"), dict3.get(\"E\",'No'), sep='\\n')"
   ]
  },
  {
   "cell_type": "markdown",
   "metadata": {
    "colab_type": "text",
    "id": "I4QDYDc2pH4C"
   },
   "source": [
    "##### + copying dictionary\n",
    "newdict = dict1.copy()를 해서 복사해주어야 원본값이 안바뀜"
   ]
  },
  {
   "cell_type": "markdown",
   "metadata": {
    "colab_type": "text",
    "id": "_2Vv_nC-z5wz"
   },
   "source": [
    "#### C-5 set\n",
    "immutable object이므로 수정한 내용이 original set에 업데이트되지 않음\n",
    "1. { } or set() 으로 표현 (빈 set은 후자만 사용)\n",
    "2. unique 하고(=중복이 없고), 순서도 없음 : 필터 역할\n",
    "3. set({dict})인 경우, key를 set으로 반환\n",
    "4. indexing, slicing 불가능\n",
    "5. in, not in, ==, !=, <=, >= : True or False 반환"
   ]
  },
  {
   "cell_type": "markdown",
   "metadata": {
    "colab_type": "text",
    "id": "oFfASqjEtuKh"
   },
   "source": [
    "##### + set method\n",
    "+ a & b : 교집합\n",
    "+ a | b : 합집합\n",
    "+ a.union(b) : 합집합\n",
    "+ a - b : 차집합\n",
    "+ a.difference(b) : 차집합\n",
    "+ a ^ b : 대칭차집합\n",
    "+ len() : 길이 반환\n",
    "+ x.add(element) : 값 1개 추가\n",
    "+ x.update([element]) : 여러 값 추가\n",
    "+ x.discard(element) : 특정값 제거\n",
    "+ x.remove(element) : 특정값 제거 (이미 없으면 error)\n",
    "+ x.clear() : 모든 element 제거"
   ]
  },
  {
   "cell_type": "markdown",
   "metadata": {
    "colab_type": "text",
    "id": "tMxZKhUZv9la"
   },
   "source": [
    "##### + copying set\n",
    "newset = set1.copy()를 해서 복사해주어야 원본값이 안바뀜"
   ]
  },
  {
   "cell_type": "markdown",
   "metadata": {
    "colab_type": "text",
    "id": "iuouGWO_J8_-"
   },
   "source": [
    "## 02 제어문 (if, while, for)"
   ]
  },
  {
   "cell_type": "markdown",
   "metadata": {
    "colab_type": "text",
    "id": "1FDMUeqKKNbY"
   },
   "source": [
    "### A. if문\n",
    "1. 비교연산자 : <, >, ==, !=, <=, >=\n",
    "2. 기타연산자 : or, and, not, in, not in\n",
    "3. pass : 아무일이 일어나지 않도록 설정 (들여씀)\n",
    "4. elif : else + if\n",
    "5. 조건문 뒤에 ' : ' 붙이기\n",
    "6. 한줄 출력 가능\n"
   ]
  },
  {
   "cell_type": "code",
   "execution_count": 25,
   "metadata": {
    "colab": {},
    "colab_type": "code",
    "id": "8DKiyTCsFU7C"
   },
   "outputs": [],
   "source": [
    "# 한줄로 묘사하는 법 & pass 사용\n",
    "lista = ['A', 'B', 'C']\n",
    "if 'C' in lista: pass\n",
    "else: print('None')"
   ]
  },
  {
   "cell_type": "markdown",
   "metadata": {
    "colab_type": "text",
    "id": "zZiKF2vcKNjC"
   },
   "source": [
    "### B. while문\n",
    "1. 조건문이 참인 동안 반복, 거짓이면  빠져나옴\n",
    "2. 조건문 뒤에 ' : ' 붙이기\n",
    "3. break = while문 강제로 빠져나가기 (들여씀)\n",
    "4. continue = while문 맨 처음(조건문)으로 돌아가기\n",
    "5. while True = 조건문이 항상 참이므로 무한 루프 : 빠져나오려면 [ctrl + C]\n",
    "6. 한줄 출력 가능"
   ]
  },
  {
   "cell_type": "code",
   "execution_count": 26,
   "metadata": {
    "colab": {
     "base_uri": "https://localhost:8080/",
     "height": 34
    },
    "colab_type": "code",
    "id": "6-k8VYKv4XMe",
    "outputId": "49c12f00-983c-4d37-ef62-f26864fe2cde"
   },
   "outputs": [
    {
     "name": "stdout",
     "output_type": "stream",
     "text": [
      "Sum is 55\n"
     ]
    }
   ],
   "source": [
    "# 1-10까지의 합_ 마지막 sum만 나타내고 싶으면 print는 밖으로 빼주기\n",
    "sum = 0\n",
    "i = 1\n",
    "while i <= 10:\n",
    "  sum += i\n",
    "  i += 1\n",
    "print(\"Sum is\", sum)"
   ]
  },
  {
   "cell_type": "code",
   "execution_count": 27,
   "metadata": {
    "colab": {
     "base_uri": "https://localhost:8080/",
     "height": 101
    },
    "colab_type": "code",
    "id": "jh3Rx3wc5hyl",
    "outputId": "94fa6d41-eb73-4115-a50a-a64619f1f41e"
   },
   "outputs": [
    {
     "name": "stdout",
     "output_type": "stream",
     "text": [
      "1\n",
      "3\n",
      "5\n",
      "7\n",
      "9\n"
     ]
    }
   ],
   "source": [
    "# 1-10 중 홀수만 출력하기\n",
    "a = 0\n",
    "while a <10:\n",
    "  a += 1\n",
    "  if a % 2 == 0: continue\n",
    "  print(a)"
   ]
  },
  {
   "cell_type": "markdown",
   "metadata": {
    "colab_type": "text",
    "id": "CErG8rEoKNrJ"
   },
   "source": [
    "### C. for문\n",
    "1. for 변수 in (리스트, 튜플, 문자열 등)\n",
    "2. 조건문 뒤에 ' : ' 붙이기\n",
    "3. continue 사용 가능 (필요한 것만 출력)\n",
    "4. 리스트 내포 : [표현식 for x in ~ (if 조건문)] _ if 생략가능\n",
    "5. 한줄 출력 가능"
   ]
  },
  {
   "cell_type": "code",
   "execution_count": 28,
   "metadata": {
    "colab": {
     "base_uri": "https://localhost:8080/",
     "height": 34
    },
    "colab_type": "code",
    "id": "ZNwbuk1i_aIP",
    "outputId": "209485af-b27c-4496-aead-35e5b269319a"
   },
   "outputs": [
    {
     "name": "stdout",
     "output_type": "stream",
     "text": [
      "[3, 6, 9, 12]\n"
     ]
    }
   ],
   "source": [
    "# list comprehension\n",
    "a = [1,2,3,4]\n",
    "result = [num * 3 for num in a]\n",
    "print(result)"
   ]
  },
  {
   "cell_type": "markdown",
   "metadata": {
    "colab_type": "text",
    "id": "D0z7sDfR9m-2"
   },
   "source": [
    "#### + range 함수\n",
    "1. range(시작 숫자, 끝 숫자, 간격) : 끝 숫자 포함 안됨\n",
    "2. 위에 list 등 있을 시, range(len()) 으로 사용"
   ]
  },
  {
   "cell_type": "code",
   "execution_count": 29,
   "metadata": {
    "colab": {
     "base_uri": "https://localhost:8080/",
     "height": 151
    },
    "colab_type": "code",
    "id": "r_19RGlW9nN2",
    "outputId": "79c62ea8-b648-4efc-b7e5-74e4ba37997d"
   },
   "outputs": [
    {
     "name": "stdout",
     "output_type": "stream",
     "text": [
      "2 4 6 8 10 12 14 16 18  \n",
      "3 6 9 12 15 18 21 24 27  \n",
      "4 8 12 16 20 24 28 32 36  \n",
      "5 10 15 20 25 30 35 40 45  \n",
      "6 12 18 24 30 36 42 48 54  \n",
      "7 14 21 28 35 42 49 56 63  \n",
      "8 16 24 32 40 48 56 64 72  \n",
      "9 18 27 36 45 54 63 72 81  \n"
     ]
    }
   ],
   "source": [
    "# range 함수 _ 구구단\n",
    "for i in range(2,10):\n",
    "  for j in range(1,10):\n",
    "    print(i * j, end=\" \")\n",
    "  print(' ')"
   ]
  },
  {
   "cell_type": "markdown",
   "metadata": {
    "colab_type": "text",
    "id": "DbaG_M6VKIad"
   },
   "source": [
    "## 03 함수"
   ]
  },
  {
   "cell_type": "markdown",
   "metadata": {
    "colab_type": "text",
    "id": "A3ePRfIDCn8b"
   },
   "source": [
    "### A. def 함수\n",
    "1. 일반적인 함수\n",
    "        def 함수이름(매개변수):\n",
    "              return 결과값\n",
    "\n",
    "        결과값을 받을 변수 = 함수이름(인수)\n",
    "\n",
    "2. 입력값이 없는 함수\n",
    "        def 함수이름():\n",
    "              return 결과값\n",
    "\n",
    "        결과값을 받을 변수 = 함수이름()\n",
    "     \n",
    "3. 결과값이 없는 함수\n",
    "        def 함수이름(매개변수):\n",
    "\n",
    "        함수이름(인수)\n",
    "\n",
    "        \n",
    "4. 입력값, 결과값 모두 없는 함수\n",
    "        def 함수이름():\n",
    "\n",
    "        함수이름()\n",
    "\n",
    "+ return값은 오로지 1개\n",
    "+ return으로 함수를 빠져나갈 수 있음\n",
    "+ 함수 안에서 선언한 매개변수는 함수 안에서만 효력\n",
    "+ 함수 밖의 변수를 변경하는 법 : return, global 사용"
   ]
  },
  {
   "cell_type": "code",
   "execution_count": 30,
   "metadata": {
    "colab": {
     "base_uri": "https://localhost:8080/",
     "height": 50
    },
    "colab_type": "code",
    "id": "nqWxBUCo-r6m",
    "outputId": "e6b209fa-f782-4d19-a99b-745385e2198e"
   },
   "outputs": [
    {
     "name": "stdout",
     "output_type": "stream",
     "text": [
      "7\n",
      "None\n"
     ]
    }
   ],
   "source": [
    "# 결과값이 없는 함수\n",
    "def sumf(a,b):\n",
    "  print(a + b)\n",
    "\n",
    "a = sumf(3,4)\n",
    "print(a) # None : 결과값 없음을 의미"
   ]
  },
  {
   "cell_type": "code",
   "execution_count": 31,
   "metadata": {
    "colab": {
     "base_uri": "https://localhost:8080/",
     "height": 34
    },
    "colab_type": "code",
    "id": "o4LbVWvfCEvA",
    "outputId": "5619d497-a391-4618-ad2c-9640f2415ce0"
   },
   "outputs": [
    {
     "name": "stdout",
     "output_type": "stream",
     "text": [
      "0.5 2.0\n"
     ]
    }
   ],
   "source": [
    "# 매개변수 지정해서 호출 \n",
    "def divif(a,b):\n",
    "  return a/b\n",
    "\n",
    "r = divif(2,4)\n",
    "l = divif(b=2, a=4) # 변수만 제대로 지정해주면 순서 상관이 없음\n",
    "print(r,l)"
   ]
  },
  {
   "cell_type": "code",
   "execution_count": 32,
   "metadata": {
    "colab": {
     "base_uri": "https://localhost:8080/",
     "height": 34
    },
    "colab_type": "code",
    "id": "G0iz4avwJXxc",
    "outputId": "3eff6c42-8c96-4b1e-9983-6b92e69c0cee"
   },
   "outputs": [
    {
     "name": "stdout",
     "output_type": "stream",
     "text": [
      "(3, 2)\n"
     ]
    }
   ],
   "source": [
    "# return값은 only 1개\n",
    "def re(a,b):\n",
    "  return a+b, a*b\n",
    "\n",
    "result = re(1,2)\n",
    "print(result) # return값은 1개이므로 tuple로 결과값을 반환"
   ]
  },
  {
   "cell_type": "markdown",
   "metadata": {
    "colab_type": "text",
    "id": "I_CZ7Vw9GfTM"
   },
   "source": [
    "#### + 여러개 입력받는 함수\n",
    "def 함수이름(*매개변수): <br>\n",
    "모든 입력값들을 tuple로 반환"
   ]
  },
  {
   "cell_type": "code",
   "execution_count": 33,
   "metadata": {
    "colab": {
     "base_uri": "https://localhost:8080/",
     "height": 34
    },
    "colab_type": "code",
    "id": "u2N2KHrNHvAJ",
    "outputId": "5b5eb6b5-e122-4add-9351-66923924154b"
   },
   "outputs": [
    {
     "name": "stdout",
     "output_type": "stream",
     "text": [
      "(1, 2, 3, 4, 5)\n"
     ]
    }
   ],
   "source": [
    "# 입력값이 여러개\n",
    "def app(*args):\n",
    "  return args\n",
    "\n",
    "a = app(1,2,3,4,5)\n",
    "print(a)"
   ]
  },
  {
   "cell_type": "markdown",
   "metadata": {
    "colab_type": "text",
    "id": "ZYYeMMRtIcyb"
   },
   "source": [
    "#### + 키워드 파라미터\n",
    "def 함수이름(**매개변수): <br>\n",
    "모든 입력값들을 dict으로 반환"
   ]
  },
  {
   "cell_type": "code",
   "execution_count": 34,
   "metadata": {
    "colab": {
     "base_uri": "https://localhost:8080/",
     "height": 34
    },
    "colab_type": "code",
    "id": "vBTzIwbMIskp",
    "outputId": "c18ac6a6-be34-4a8f-85c9-8ebcd63cb27c"
   },
   "outputs": [
    {
     "name": "stdout",
     "output_type": "stream",
     "text": [
      "{'apple': 'red'}\n"
     ]
    }
   ],
   "source": [
    "# 키워드 파라미터\n",
    "def app2(**args):\n",
    "  return args\n",
    "\n",
    "b = app2(apple = 'red')\n",
    "print(b)"
   ]
  },
  {
   "cell_type": "code",
   "execution_count": 35,
   "metadata": {
    "colab": {
     "base_uri": "https://localhost:8080/",
     "height": 118
    },
    "colab_type": "code",
    "id": "pZ6OQDGCIvpb",
    "outputId": "a2543db9-46d4-4ef7-edab-f5c434195cfb"
   },
   "outputs": [
    {
     "name": "stdout",
     "output_type": "stream",
     "text": [
      "Name: Isabella\n",
      "Major:\n",
      "Economics\n",
      "Industrial Engineering\n",
      "Age : 22\n",
      "Gender : Female\n"
     ]
    }
   ],
   "source": [
    "# 함수 응용\n",
    "def intro(name, *major, **info):\n",
    "  print('Name:', name)\n",
    "  print(\"Major:\")\n",
    "  for ma in major:\n",
    "    print(ma)\n",
    "  for inf in info:\n",
    "    print(inf, \":\", info[inf])\n",
    "\n",
    "intro(\"Isabella\", \"Economics\", \"Industrial Engineering\", Age = \"22\", Gender = 'Female')"
   ]
  },
  {
   "cell_type": "markdown",
   "metadata": {
    "colab_type": "text",
    "id": "iutlnyUzLehl"
   },
   "source": [
    "#### + 매개변수에 초깃값 설정하기\n",
    "+ 입력시 초깃값 설정한 변수는 적지 않아도 됨\n",
    "+ 초깃값은 맨 마지막에만 설정가능\n"
   ]
  },
  {
   "cell_type": "code",
   "execution_count": 36,
   "metadata": {
    "colab": {
     "base_uri": "https://localhost:8080/",
     "height": 84
    },
    "colab_type": "code",
    "id": "Xp-yKQAEMC60",
    "outputId": "e75fa532-4694-4a6f-b34d-ff3777ed474a"
   },
   "outputs": [
    {
     "name": "stdout",
     "output_type": "stream",
     "text": [
      "Address: Korea, Seoul.\n",
      "living\n",
      "Address: USA, NYC.\n",
      "Not living\n"
     ]
    }
   ],
   "source": [
    "# 초깃값 예시\n",
    "def address(country, city, current=True):\n",
    "  print(\"Address: %s, %s.\" %(country, city))\n",
    "  if current:\n",
    "    print(\"living\")\n",
    "  else:\n",
    "    print(\"Not living\")\n",
    "\n",
    "a = address('Korea', 'Seoul')\n",
    "b = address(\"USA\", 'NYC', False)"
   ]
  },
  {
   "cell_type": "markdown",
   "metadata": {
    "colab_type": "text",
    "id": "2yXAfM1OCySK"
   },
   "source": [
    "### B. lambda 함수\n",
    "1. lambda 매개변수1, 매개변수2 ... (한줄로 표현)\n",
    "2. return 없이도 결과값 반환"
   ]
  },
  {
   "cell_type": "code",
   "execution_count": 37,
   "metadata": {
    "colab": {
     "base_uri": "https://localhost:8080/",
     "height": 34
    },
    "colab_type": "code",
    "id": "yhM3OATQOSVg",
    "outputId": "4e36a604-17fa-4c4e-90ca-6461b87f6c73"
   },
   "outputs": [
    {
     "name": "stdout",
     "output_type": "stream",
     "text": [
      "12\n"
     ]
    }
   ],
   "source": [
    "a = lambda q, w: q + w\n",
    "result = a(5,7)\n",
    "print(result)"
   ]
  },
  {
   "cell_type": "markdown",
   "metadata": {
    "colab_type": "text",
    "id": "Pi7NkpNDPtrg"
   },
   "source": [
    "## 04 여러 methods"
   ]
  },
  {
   "cell_type": "markdown",
   "metadata": {
    "colab_type": "text",
    "id": "wz29EK9sElZD"
   },
   "source": [
    "### A. 내장함수\n",
    "+ abs(x) : 절댓값 반환\n",
    "+ all(x) : 해당 자료의 True, False를 반환 (Ex_ 0이 있으면 False 등)\n",
    "+ any(x) : 자료 중 하나라도 참이면 True, 모두 거짓일 때 False\n",
    "+ chr(x) : 아스키 코드 값을 입력받고, 이에 해당하는 문자 출력 (0-127)\n",
    "+ dir(x) : 객체(list, dict 등)가 가지고 있는 함수를 보여줌 (클래스 내의 메소드)\n",
    "+ divmod(x,y) : x/y의 몫과 나머지를 tuple로 반환 (//, %)\n",
    "+ enumerate(x) : list, tuple, str을 인덱스 값을 포함하여 반환\n",
    "+ eval(expression) : 표현식을 문자열로 입력받아 실행한 결과값을 반환\n",
    "+ filter() : 함수식에서 참인 값만 반환\n",
    "+ hex(x) : 정수 값을 입력받아 16진수로 변환\n",
    "+ id(x) : 객체를 입력받아 고유 주소 값 반환\n",
    "+ int(x, radix) : radix 진수로 표현된 x를 10진수로 변환\n",
    "+ isinstance(object, class) : 해당 object가 class안에 있으면 True, 아니면 False\n",
    "+ map(f, iterable) : 입력받은 iterable자료형의 각 요소를 f가 수행한 결과를 묶어서 반환\n",
    "+ max(x) : 최댓값 반환\n",
    "+ min(x) : 최솟값 반환\n",
    "+ oct(x) : 정수 값을 입력받아 8진수로 변환\n",
    "+ ord(x) : 문자의 아스키 코드값을 반환\n",
    "+ pow(x, y) : x**y 값 반환\n",
    "+ round(x, digits) : x를 입력받아 소수점 digits까지 반올림 (x만 있으면 just 반올림)\n",
    "+ sorted(x) : 입력값을 정렬한 후 반환\n",
    "+ sum(x) : list, tuple 요소의 합 반환\n",
    "+ type(x) : 자료형이 무엇인지 반환\n",
    "+ zip(x) : 동일한 개수로 이루어진 자료형을 묶어줌"
   ]
  },
  {
   "cell_type": "code",
   "execution_count": 38,
   "metadata": {
    "colab": {
     "base_uri": "https://localhost:8080/",
     "height": 67
    },
    "colab_type": "code",
    "id": "TqiJj9E5F41T",
    "outputId": "10e07530-3370-4943-f47d-764dc65b6937"
   },
   "outputs": [
    {
     "name": "stdout",
     "output_type": "stream",
     "text": [
      "0 Apple\n",
      "1 Banana\n",
      "2 Cherry\n"
     ]
    }
   ],
   "source": [
    "# enumerate 함수\n",
    "for i, name in enumerate(['Apple', 'Banana', 'Cherry']):\n",
    "  print(i, name)"
   ]
  },
  {
   "cell_type": "code",
   "execution_count": 39,
   "metadata": {
    "colab": {
     "base_uri": "https://localhost:8080/",
     "height": 34
    },
    "colab_type": "code",
    "id": "PoRzqLNtGYuz",
    "outputId": "58fbe880-023f-4ba0-faa0-dd5ab9b752fb"
   },
   "outputs": [
    {
     "data": {
      "text/plain": [
       "'tea'"
      ]
     },
     "execution_count": 39,
     "metadata": {},
     "output_type": "execute_result"
    }
   ],
   "source": [
    "# eval 함수\n",
    "eval(\"'te' + 'a'\")"
   ]
  },
  {
   "cell_type": "code",
   "execution_count": 40,
   "metadata": {
    "colab": {
     "base_uri": "https://localhost:8080/",
     "height": 34
    },
    "colab_type": "code",
    "id": "eD-Bkg8gHeXx",
    "outputId": "827d1d36-cd6a-472c-c5f2-f3b6b5e0d58a"
   },
   "outputs": [
    {
     "data": {
      "text/plain": [
       "[1, 2, 6]"
      ]
     },
     "execution_count": 40,
     "metadata": {},
     "output_type": "execute_result"
    }
   ],
   "source": [
    "# filter 함수\n",
    "list(filter(lambda x: x>0, [1,-3,2,0,-5,6]))"
   ]
  },
  {
   "cell_type": "code",
   "execution_count": 41,
   "metadata": {
    "colab": {
     "base_uri": "https://localhost:8080/",
     "height": 34
    },
    "colab_type": "code",
    "id": "1G5H0QLYJTyi",
    "outputId": "726a0084-be29-4831-afd5-f923e30a239c"
   },
   "outputs": [
    {
     "data": {
      "text/plain": [
       "[2, 4, 6, 8]"
      ]
     },
     "execution_count": 41,
     "metadata": {},
     "output_type": "execute_result"
    }
   ],
   "source": [
    "# map 함수\n",
    "list(map(lambda a: a*2, [1,2,3,4]))"
   ]
  },
  {
   "cell_type": "code",
   "execution_count": 42,
   "metadata": {
    "colab": {
     "base_uri": "https://localhost:8080/",
     "height": 34
    },
    "colab_type": "code",
    "id": "iee6UsgwSXA5",
    "outputId": "08d3fcec-00b4-4623-95ab-05e2aaa5f653"
   },
   "outputs": [
    {
     "data": {
      "text/plain": [
       "[(1, 4, 7), (2, 5, 8), (3, 6, 9)]"
      ]
     },
     "execution_count": 42,
     "metadata": {},
     "output_type": "execute_result"
    }
   ],
   "source": [
    "# zip 함수_index별로 묶음\n",
    "list(zip([1,2,3],[4,5,6],[7,8,9]))"
   ]
  },
  {
   "cell_type": "markdown",
   "metadata": {
    "colab_type": "text",
    "id": "gjStXkcVRJ_6"
   },
   "source": [
    "#### + 파일 읽고 쓰기\n",
    "open(파일 이름, 모드) : 파일을 열 때 사용 <br>\n",
    "+ r : 읽기모드\n",
    "+ w : 쓰기모드\n",
    "+ a : 새로운 내용 추가\n"
   ]
  },
  {
   "cell_type": "code",
   "execution_count": 1,
   "metadata": {
    "colab": {},
    "colab_type": "code",
    "id": "ps7XtU0UXhIA",
    "outputId": "c07cbeef-209b-4826-90f4-55e63317c8c0"
   },
   "outputs": [
    {
     "data": {
      "text/plain": [
       "\"The life is only once. Why do you make efforts commonly, don't want to live commonly.\""
      ]
     },
     "execution_count": 1,
     "metadata": {},
     "output_type": "execute_result"
    }
   ],
   "source": [
    "# txt 파일 불러오기\n",
    "# open(,,) 첫번째 칸에 자신이 파일을 저장해놓은 위치를 써야 함\n",
    "\n",
    "f = open(\"my_life.txt\", 'r', encoding='UTF8')\n",
    "f.read()"
   ]
  },
  {
   "cell_type": "code",
   "execution_count": 2,
   "metadata": {
    "colab": {},
    "colab_type": "code",
    "id": "xO6cCAUdXhIz"
   },
   "outputs": [],
   "source": [
    "# 파일 닫기\n",
    "\n",
    "f.close()"
   ]
  },
  {
   "cell_type": "code",
   "execution_count": 3,
   "metadata": {
    "colab": {},
    "colab_type": "code",
    "id": "T7UQ712jXhI7"
   },
   "outputs": [],
   "source": [
    "# txt 파일로 내보내기\n",
    "\n",
    "f = open(\"20200522_theday.txt\", 'w', encoding='UTF8')\n",
    "f.write(\"The word 'impossible' is not in my dictionary.\")\n",
    "f.close()"
   ]
  },
  {
   "cell_type": "markdown",
   "metadata": {
    "colab_type": "text",
    "id": "2cDIT-5GEo3j"
   },
   "source": [
    "### B. 외장함수"
   ]
  },
  {
   "cell_type": "markdown",
   "metadata": {
    "colab_type": "text",
    "id": "yaxWnbJoHPm7"
   },
   "source": [
    "#### B-1 time 모듈\n",
    "import time 을 맨처음 해줘야 함\n",
    "+ time.time() : 현재 시간을 실수형태(초 단위)로 반환 (세계표준시)\n",
    "+ time.localtime() : 위 실수 값을 연도, 월, 일, 시, 분, 초 형태로 변환\n",
    "+ time.asctime() : 위 결과값을 tuple로 반환\n",
    "+ time.ctime() : time.asctime(time.localtime(time.time()))와 동일\n",
    "+ time.strftime() : 출력할 형식 포맷 코드 사용해서 나타냄\n",
    "+ time.sleep() : 일정한 시간 간격을 두고 루프 실행"
   ]
  },
  {
   "cell_type": "markdown",
   "metadata": {
    "colab_type": "text",
    "id": "GUoA6eCdJIUB"
   },
   "source": [
    "##### + strftime 함수 코드\n",
    "너무 많아서 몇개만 정리함\n",
    "+ %A : 요일\n",
    "+ %B : 달\n",
    "+ %c : 날짜, 시간 출력\n",
    "+ %d : 날\n",
    "+ %H : 시간(24시간)\n",
    "+ %I : 시간(12시간)\n",
    "+ %M : 분\n",
    "+ %p : AM or PM\n",
    "+ %S : 초 \n",
    "+ %x : 현재 설정된 local 날짜 출력\n",
    "+ %X : 현재 설정된 local 시간 출력\n",
    "+ %Y : 년\n",
    "+ %Z : 시간대\n"
   ]
  },
  {
   "cell_type": "code",
   "execution_count": 49,
   "metadata": {
    "colab": {
     "base_uri": "https://localhost:8080/",
     "height": 50
    },
    "colab_type": "code",
    "id": "yknT4hd1ESAu",
    "outputId": "b326c7cb-ebc9-4c79-ce52-b4b9949a28f0"
   },
   "outputs": [
    {
     "name": "stdout",
     "output_type": "stream",
     "text": [
      "Sat Jul 18 00:15:34 2020\n",
      "Sat Jul 18 00:15:34 2020\n"
     ]
    }
   ],
   "source": [
    "# time 예시\n",
    "import time\n",
    "a = time.asctime(time.localtime(time.time()))\n",
    "b = time.ctime()\n",
    "print(a,b, sep='\\n')"
   ]
  },
  {
   "cell_type": "code",
   "execution_count": 50,
   "metadata": {
    "colab": {
     "base_uri": "https://localhost:8080/",
     "height": 34
    },
    "colab_type": "code",
    "id": "qlZpRwgiHxas",
    "outputId": "96385309-4b53-4862-ba29-4878e97e78d1"
   },
   "outputs": [
    {
     "data": {
      "text/plain": [
       "'+0900'"
      ]
     },
     "execution_count": 50,
     "metadata": {},
     "output_type": "execute_result"
    }
   ],
   "source": [
    "# strftime 예시\n",
    "time.strftime('%z', time.localtime(time.time()))"
   ]
  },
  {
   "cell_type": "code",
   "execution_count": 0,
   "metadata": {
    "colab": {
     "base_uri": "https://localhost:8080/",
     "height": 34
    },
    "colab_type": "code",
    "id": "xMVra5RdM52M",
    "outputId": "6cb40cf4-d0c4-4a27-a54a-6a57f4e6adc0"
   },
   "outputs": [
    {
     "name": "stdout",
     "output_type": "stream",
     "text": [
      "0 1 2 3 4 5 6 7 8 9 "
     ]
    }
   ],
   "source": [
    "# sleep 예시\n",
    "for i in range(10):\n",
    "  print(i, end=' ')\n",
    "  time.sleep(1) # 1초마다 한 숫자씩 반환"
   ]
  },
  {
   "cell_type": "markdown",
   "metadata": {
    "colab_type": "text",
    "id": "Yhy3DnKQJTlY"
   },
   "source": [
    "#### B-2 calendar 모듈\n",
    "import calendar을 처음에 해주기\n",
    "+ calendar.calendar(연) : 그 해 전체 달력 (=calendar.prcal(연))\n",
    "+ calendar.prmonth(연, 월) : 해당 연도의 월을 반환\n",
    "+ calendar.weekday(연, 월, 일) : 해당 날짜의 요일을 숫자(월=0, 일=6)로 반환\n",
    "+ calendar.monthrange(연, 월) : 해당 월의 1일의 요일과, 몇일인지 tuple로 반환\n"
   ]
  },
  {
   "cell_type": "code",
   "execution_count": 0,
   "metadata": {
    "colab": {
     "base_uri": "https://localhost:8080/",
     "height": 34
    },
    "colab_type": "code",
    "id": "_3wOSrdWOIqk",
    "outputId": "ecbe7ed1-e32a-4ba1-85cb-48147dccb2f7"
   },
   "outputs": [
    {
     "data": {
      "text/plain": [
       "(6, 31)"
      ]
     },
     "execution_count": 51,
     "metadata": {
      "tags": []
     },
     "output_type": "execute_result"
    }
   ],
   "source": [
    "# monthrange 예시\n",
    "import calendar\n",
    "calendar.monthrange(2020,3)"
   ]
  },
  {
   "cell_type": "markdown",
   "metadata": {
    "colab_type": "text",
    "id": "G8hKZvYfJcgg"
   },
   "source": [
    "#### B-3 random 모듈\n",
    "import random 맨 처음에 해주기\n",
    "+ random.random() : 0 ~ 1 사이에서 랜덤 실수\n",
    "+ random.randint(숫자, 숫자) : 숫자 사이의 랜덤 정수"
   ]
  },
  {
   "cell_type": "code",
   "execution_count": 0,
   "metadata": {
    "colab": {
     "base_uri": "https://localhost:8080/",
     "height": 34
    },
    "colab_type": "code",
    "id": "e0ewAML6IleK",
    "outputId": "63b66558-bc47-4503-ff10-999f17d626ab"
   },
   "outputs": [
    {
     "data": {
      "text/plain": [
       "6"
      ]
     },
     "execution_count": 52,
     "metadata": {
      "tags": []
     },
     "output_type": "execute_result"
    }
   ],
   "source": [
    "# randint 예시\n",
    "import random\n",
    "random.randint(1,10)"
   ]
  },
  {
   "cell_type": "code",
   "execution_count": 0,
   "metadata": {
    "colab": {},
    "colab_type": "code",
    "id": "2Z1wiQG2kGqT"
   },
   "outputs": [],
   "source": []
  }
 ],
 "metadata": {
  "colab": {
   "collapsed_sections": [],
   "name": "Python3_code_Basics.ipynb",
   "provenance": [],
   "toc_visible": true
  },
  "kernelspec": {
   "display_name": "Python 3",
   "language": "python",
   "name": "python3"
  },
  "language_info": {
   "codemirror_mode": {
    "name": "ipython",
    "version": 3
   },
   "file_extension": ".py",
   "mimetype": "text/x-python",
   "name": "python",
   "nbconvert_exporter": "python",
   "pygments_lexer": "ipython3",
   "version": "3.6.5"
  }
 },
 "nbformat": 4,
 "nbformat_minor": 1
}
