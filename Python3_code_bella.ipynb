{
  "nbformat": 4,
  "nbformat_minor": 0,
  "metadata": {
    "kernelspec": {
      "display_name": "Python 3",
      "language": "python",
      "name": "python3"
    },
    "language_info": {
      "codemirror_mode": {
        "name": "ipython",
        "version": 3
      },
      "file_extension": ".py",
      "mimetype": "text/x-python",
      "name": "python",
      "nbconvert_exporter": "python",
      "pygments_lexer": "ipython3",
      "version": "3.6.5"
    },
    "colab": {
      "name": "Python3_code_bella.ipynb",
      "provenance": [],
      "toc_visible": true
    }
  },
  "cells": [
    {
      "cell_type": "markdown",
      "metadata": {
        "id": "pwBtt2xdz5uy",
        "colab_type": "text"
      },
      "source": [
        "## 01 Python Basics\n"
      ]
    },
    {
      "cell_type": "markdown",
      "metadata": {
        "id": "AsXrck7d0jTy",
        "colab_type": "text"
      },
      "source": [
        "### A. 숫자형\n",
        "1. integer : 정수 <br>\n",
        "    Ep_ int()로 사용 <br>\n",
        "2. float : 실수 <br>\n",
        "    Ep_ float()으로 사용 <br>\n",
        "3. complex : 복소수 <br>\n",
        "    Ex_ 1 + 4j  => <b> 아래 코드 참고</b><br>\n",
        "4. 8진수 & 16진수 <br>\n",
        "    Ex_ 0o177 & 0x2A 등 (숫자0 + 각각 알파벳 o or x 사용)<br>    \n",
        "    <b>operators:</b> +, -, *, /, %, **, // (+=, /= 처럼 사용가능)"
      ]
    },
    {
      "cell_type": "code",
      "metadata": {
        "id": "VhrtLlgCz5u8",
        "colab_type": "code",
        "colab": {
          "base_uri": "https://localhost:8080/",
          "height": 84
        },
        "outputId": "f4a74884-bc85-47a6-d058-7451f854b8d6"
      },
      "source": [
        "# A.3. complex\n",
        "a = 2 + 3j\n",
        "print(a.real)                  #실수부분 리턴\n",
        "print(a.imag)                #허수부분 리턴\n",
        "print(a.conjugate())      #켤레복소수 리턴\n",
        "abs(a)                          #절댓값 리턴"
      ],
      "execution_count": 51,
      "outputs": [
        {
          "output_type": "stream",
          "text": [
            "2.0\n",
            "3.0\n",
            "(2-3j)\n"
          ],
          "name": "stdout"
        },
        {
          "output_type": "execute_result",
          "data": {
            "text/plain": [
              "3.605551275463989"
            ]
          },
          "metadata": {
            "tags": []
          },
          "execution_count": 51
        }
      ]
    },
    {
      "cell_type": "code",
      "metadata": {
        "id": "IhtY8SANz5vS",
        "colab_type": "code",
        "colab": {
          "base_uri": "https://localhost:8080/",
          "height": 34
        },
        "outputId": "28066858-c580-4670-ef7b-b2b865914c76"
      },
      "source": [
        "# 숫자형 operators example (+= 등 처럼 사용하는 경우)\n",
        "b = 5\n",
        "b /= 2\n",
        "b"
      ],
      "execution_count": 4,
      "outputs": [
        {
          "output_type": "execute_result",
          "data": {
            "text/plain": [
              "2.5"
            ]
          },
          "metadata": {
            "tags": []
          },
          "execution_count": 4
        }
      ]
    },
    {
      "cell_type": "markdown",
      "metadata": {
        "id": "BCzZuslSz5ve",
        "colab_type": "text"
      },
      "source": [
        "#### + math 모듈\n",
        "+ round(x,n) : x를 소수 n자리까지 반올림하는 것 => math 모듈이 필요하지 않음 <br>\n",
        "+ ceil(x) : 올림 <br>\n",
        "+ factorial(x) : x! <br>\n",
        "+ floor(x) : 내림 <br>\n",
        "+ exp(x) : e**x <br>\n",
        "+ log(x,base) : log(base)(x) <br>\n",
        "+ log10(x) : 상용로그 <br>\n",
        "+ sqrt(x) : root(x) 값 <br>\n",
        "+ cos(x), sin(x), tan(x) <br>\n",
        "+ pi, e <br>"
      ]
    },
    {
      "cell_type": "code",
      "metadata": {
        "id": "Z0Sozgufz5vi",
        "colab_type": "code",
        "colab": {
          "base_uri": "https://localhost:8080/",
          "height": 34
        },
        "outputId": "3c1e6778-ab8c-4f2a-8a90-a8fa5652613e"
      },
      "source": [
        "import math\n",
        "math.pi"
      ],
      "execution_count": 5,
      "outputs": [
        {
          "output_type": "execute_result",
          "data": {
            "text/plain": [
              "3.141592653589793"
            ]
          },
          "metadata": {
            "tags": []
          },
          "execution_count": 5
        }
      ]
    },
    {
      "cell_type": "markdown",
      "metadata": {
        "id": "o0rAYo5t146z",
        "colab_type": "text"
      },
      "source": [
        "### B. Boolean\n",
        "1. True / False <br>\n",
        "<b>operators:</b> ==, !=, >, < >=, <=, is, is not, in, not in, and, or, not <br>\n",
        "2. while, if, for 등 함수에서 응용"
      ]
    },
    {
      "cell_type": "markdown",
      "metadata": {
        "id": "TDSAZFtW2z41",
        "colab_type": "text"
      },
      "source": [
        "### C. 문자열 자료형\n",
        "1. string\n",
        "2. list\n",
        "3. tuple\n",
        "4. dictionary\n",
        "5. set"
      ]
    },
    {
      "cell_type": "markdown",
      "metadata": {
        "id": "pfFWV_Kqz5vw",
        "colab_type": "text"
      },
      "source": [
        "#### C-1 string\n",
        "immutable object이므로 수정한 내용이 original string에 업데이트되지 않음 <br>\n",
        "1. str() : string으로 변환\n",
        "2. indexing : x[0] <br>\n",
        "3. slicing : [a:b:c] a부터 b바로 전까지 c간격으로 <br>\n",
        "Ex_ x[:], x[::-1], x[5:1:-2] <br>\n",
        "Ep_ silcing활용 => print(text[-5:] + \"a\" + text[:-1])\n",
        "4. operators : +, -, in, not in\n",
        "5. % : 나머지 반환\n",
        "6. // : 몫 반환\n",
        "7. \"\"\" \"\"\" : 줄바꿈할 때 쓰임"
      ]
    },
    {
      "cell_type": "markdown",
      "metadata": {
        "id": "8S3cQY7oz5v2",
        "colab_type": "text"
      },
      "source": [
        "##### + string method\n",
        "+ len(x) : x의 길이 <br>\n",
        "+ x.find(str) : 해당 str의 index를 반환 (없으면 '-1'을 반환) <br>\n",
        "+ x.index(str) : 해당 str의 index를 반환 (없으면 오류) <br>\n",
        "+ x.count(str) : 해당 str의 개수 <br>\n",
        "+ x.capitalize() : 첫번째 문자를 대문자로 변환 <br>\n",
        "+ x.lower() : 소문자 만들기 <br>\n",
        "+ x.upper() : 대문자 만들기 <br>\n",
        "+ x.lstrip() : 왼쪽 공백 없애기 <br>\n",
        "+ x.rstrip() : 오른쪽 공백 없애기 <br>\n",
        "+ x.strip : 양쪽 공백 없애기 <br>\n",
        "+ x.split(str) : 해당 str을 기준으로 앞과 뒤로 나눔 <br>\n",
        "+ x.replace(old, new) : old string을 new string으로 바꿔줌 <br>\n",
        "+ x.startswith(str) : 해당 str으로 시작하면 True, 아니면 False <br>\n",
        "+ x.endswith(str) : 해당 str으로 끝나면 True, 아니면 False <br>\n",
        "+ xisalpha : string이 모두 alphabet이면 True, 아니면 False <br>\n",
        "+ x.isnumeric : string이 모두 number이면 True, 아니면 False <br>\n",
        "+ x.isalnum : string이 모두 alphabet, number이면 True, 아니면 False <br>\n",
        "+ \" \".join(str) : str 사이사이에 \" \" 안에 있는 것을 삽입 <br>\n",
        "+ sorted(str) : str을 알파벳순으로 정렬 (띄어쓰기는 맨앞) <br>"
      ]
    },
    {
      "cell_type": "code",
      "metadata": {
        "id": "WdVBn-89z5v6",
        "colab_type": "code",
        "colab": {
          "base_uri": "https://localhost:8080/",
          "height": 34
        },
        "outputId": "9bd25c2d-7538-4ff3-ba09-1cd0197c41d1"
      },
      "source": [
        "# split 사용법\n",
        "str1 = \"Wanna be happy\"\n",
        "str1.split('a')"
      ],
      "execution_count": 50,
      "outputs": [
        {
          "output_type": "execute_result",
          "data": {
            "text/plain": [
              "['W', 'nn', ' be h', 'ppy']"
            ]
          },
          "metadata": {
            "tags": []
          },
          "execution_count": 50
        }
      ]
    },
    {
      "cell_type": "code",
      "metadata": {
        "id": "L6u60oVI8SlG",
        "colab_type": "code",
        "colab": {
          "base_uri": "https://localhost:8080/",
          "height": 34
        },
        "outputId": "80f4ff20-772d-43f4-efe4-c90c871092af"
      },
      "source": [
        "# join 사용법\n",
        "str2 = \",\".join('will')\n",
        "str2"
      ],
      "execution_count": 52,
      "outputs": [
        {
          "output_type": "execute_result",
          "data": {
            "text/plain": [
              "'w,i,l,l'"
            ]
          },
          "metadata": {
            "tags": []
          },
          "execution_count": 52
        }
      ]
    },
    {
      "cell_type": "markdown",
      "metadata": {
        "id": "xW8xVixiz5wK",
        "colab_type": "text"
      },
      "source": [
        "##### + escape code\n",
        "+ \\n : 줄바꿈 <br>\n",
        "+ \\t : 탭간격 <br>\n",
        "+ \\\\\\ : 문자 \\ 표현 <br>\n",
        "+ \\\\', \\\\\" : 따옴표 표현"
      ]
    },
    {
      "cell_type": "code",
      "metadata": {
        "id": "9AlyGYcPz5wQ",
        "colab_type": "code",
        "colab": {
          "base_uri": "https://localhost:8080/",
          "height": 67
        },
        "outputId": "80648f3b-639f-44a5-9ae2-4ab526165e2e"
      },
      "source": [
        "# sep= 이용법\n",
        "print('Can', 'You', 'Guess?', sep=\"\\n\")"
      ],
      "execution_count": 53,
      "outputs": [
        {
          "output_type": "stream",
          "text": [
            "Can\n",
            "You\n",
            "Guess?\n"
          ],
          "name": "stdout"
        }
      ]
    },
    {
      "cell_type": "markdown",
      "metadata": {
        "id": "eUC7f2ob_HZZ",
        "colab_type": "text"
      },
      "source": [
        "##### + formatting <br>\n",
        "1) % 사용\n",
        "+ %s : 문자열 formatting\n",
        "+ %c : 문자 1개 formatting\n",
        "+ %d : 정수 formatting\n",
        "+ %f : 소수 formatting\n",
        "+ %% : 문자 % 구현 <br>\n",
        "\n",
        "2) format 함수\n",
        "+ str.format() : 함수를 이용한 formatting 방법\n",
        "+ {{  }}.format() : 중괄호 {  } 구현\n",
        "\n",
        "3) f 문자열\n",
        "+ f\"str\" : format 함수와 비슷하게 적용되는 formatting 방법\n",
        "+ f{{  }} : 중괄호 {  } 구현\n",
        "\n",
        "4) 정렬 & 공백 (소수점 나타내기)\n",
        "+ %숫자s : 오른쪽 정렬, 나머지는 숫자만큼 공백\n",
        "+ %-숫자s : 왼쪽 정렬, 나머지는 숫자만큼 공백\n",
        "+ %.숫자f : 소수점 표현\n",
        "+ \"{0:>10}\".format() : 오른쪽 정렬\n",
        "+ \"{0:<10}\".format() : 왼쪽 정렬\n",
        "+ \"{0:^10}\".format() : 가운데 정렬\n",
        "+ \"{0:a^10}\".format() : 공백을 a로 채움\n",
        "+ \"{0:.숫자f}\".format() : 소수점  표현\n",
        "+ format 함수의 '0' 위치에 str 등을 넣으면 같은 결과\n"
      ]
    },
    {
      "cell_type": "code",
      "metadata": {
        "id": "klnNlSMvANzG",
        "colab_type": "code",
        "colab": {
          "base_uri": "https://localhost:8080/",
          "height": 34
        },
        "outputId": "304f0cbc-7786-4dd2-963d-d675ead50100"
      },
      "source": [
        "# % 두개 넣는 예시\n",
        "n = 3\n",
        "day = 'sunday'\n",
        "for1 = \"I ate %d apples on %s morning\" % (n,day)\n",
        "for1"
      ],
      "execution_count": 39,
      "outputs": [
        {
          "output_type": "execute_result",
          "data": {
            "text/plain": [
              "'I ate 3 apples on sunday morning'"
            ]
          },
          "metadata": {
            "tags": []
          },
          "execution_count": 39
        }
      ]
    },
    {
      "cell_type": "code",
      "metadata": {
        "id": "sqpwMv6mApXi",
        "colab_type": "code",
        "colab": {
          "base_uri": "https://localhost:8080/",
          "height": 34
        },
        "outputId": "b1662f18-4998-40aa-caea-82ca0649ad04"
      },
      "source": [
        "# 문자 % 표시법\n",
        "for2 = \"It is %d%% off now!\" % 90\n",
        "for2"
      ],
      "execution_count": 57,
      "outputs": [
        {
          "output_type": "execute_result",
          "data": {
            "text/plain": [
              "'It is 90% off now!'"
            ]
          },
          "metadata": {
            "tags": []
          },
          "execution_count": 57
        }
      ]
    },
    {
      "cell_type": "code",
      "metadata": {
        "id": "N0n_VkdFCMUY",
        "colab_type": "code",
        "colab": {
          "base_uri": "https://localhost:8080/",
          "height": 34
        },
        "outputId": "797d384e-2f95-4396-fd91-aef01da6d339"
      },
      "source": [
        "# format 함수 예시\n",
        "for3 = \"I need {} more pens right {}.\" .format(3,'now')\n",
        "for3"
      ],
      "execution_count": 58,
      "outputs": [
        {
          "output_type": "execute_result",
          "data": {
            "text/plain": [
              "'I need 3 more pens right now.'"
            ]
          },
          "metadata": {
            "tags": []
          },
          "execution_count": 58
        }
      ]
    },
    {
      "cell_type": "code",
      "metadata": {
        "id": "JDeex114CqBQ",
        "colab_type": "code",
        "colab": {
          "base_uri": "https://localhost:8080/",
          "height": 34
        },
        "outputId": "bf887e8f-aa04-4210-dd95-cba9042ae8aa"
      },
      "source": [
        "# format에서 이름으로 넣기\n",
        "for4 = 'Do you {a} me?' .format(a='believe')\n",
        "for4"
      ],
      "execution_count": 64,
      "outputs": [
        {
          "output_type": "execute_result",
          "data": {
            "text/plain": [
              "'Do you believe me?'"
            ]
          },
          "metadata": {
            "tags": []
          },
          "execution_count": 64
        }
      ]
    },
    {
      "cell_type": "code",
      "metadata": {
        "id": "9iDMn0RgDFFF",
        "colab_type": "code",
        "colab": {
          "base_uri": "https://localhost:8080/",
          "height": 34
        },
        "outputId": "1a0d3f53-2391-4516-8d1e-a1544d3f9d7d"
      },
      "source": [
        "# f 문자열 예시\n",
        "age = 22\n",
        "for5 = f\"OMG, I'll be {age + 1} years old next year.\"\n",
        "for5"
      ],
      "execution_count": 65,
      "outputs": [
        {
          "output_type": "execute_result",
          "data": {
            "text/plain": [
              "\"OMG, I'll be 23 years old next year.\""
            ]
          },
          "metadata": {
            "tags": []
          },
          "execution_count": 65
        }
      ]
    },
    {
      "cell_type": "code",
      "metadata": {
        "id": "KKt3Ro73EeE5",
        "colab_type": "code",
        "colab": {
          "base_uri": "https://localhost:8080/",
          "height": 34
        },
        "outputId": "64ed0a61-aacd-4f1e-bfb2-c207348873af"
      },
      "source": [
        "# 정렬, 공백, 소수점 (%)\n",
        "blank1 = \"Your %10s is %.2f.\" % ('grade', 95.38492)\n",
        "blank1"
      ],
      "execution_count": 63,
      "outputs": [
        {
          "output_type": "execute_result",
          "data": {
            "text/plain": [
              "'Your      grade is 95.38.'"
            ]
          },
          "metadata": {
            "tags": []
          },
          "execution_count": 63
        }
      ]
    },
    {
      "cell_type": "code",
      "metadata": {
        "id": "emRGStqDFE3Y",
        "colab_type": "code",
        "colab": {
          "base_uri": "https://localhost:8080/",
          "height": 34
        },
        "outputId": "90275da5-91db-4888-be91-67bab314f5e0"
      },
      "source": [
        "# 정렬, 공백, 소수점 (format 함수)\n",
        "blank2 = \"{0:!<10}\".format(\"Isabella\")\n",
        "blank2"
      ],
      "execution_count": 66,
      "outputs": [
        {
          "output_type": "execute_result",
          "data": {
            "text/plain": [
              "'Isabella!!'"
            ]
          },
          "metadata": {
            "tags": []
          },
          "execution_count": 66
        }
      ]
    },
    {
      "cell_type": "code",
      "metadata": {
        "id": "6qsVFt1lH1Xk",
        "colab_type": "code",
        "colab": {
          "base_uri": "https://localhost:8080/",
          "height": 34
        },
        "outputId": "ac2d4c9a-ace8-435f-8888-07da6015dcfc"
      },
      "source": [
        " # 정렬, 공백, 소수점 (format 함수) _ :와 .사이에 '0' 넣어도 same result\n",
        " x = 90.3423587\n",
        " blank3 = \"{0:.3f}\".format(x)\n",
        " blank3"
      ],
      "execution_count": 68,
      "outputs": [
        {
          "output_type": "execute_result",
          "data": {
            "text/plain": [
              "'90.342'"
            ]
          },
          "metadata": {
            "tags": []
          },
          "execution_count": 68
        }
      ]
    },
    {
      "cell_type": "code",
      "metadata": {
        "id": "3KKCPx4-FE00",
        "colab_type": "code",
        "colab": {
          "base_uri": "https://localhost:8080/",
          "height": 34
        },
        "outputId": "8afe1338-455d-453f-a260-ee26d580d542"
      },
      "source": [
        "# 정렬, 공백, 소수점 (f 문자열)\n",
        "blank4 = f'{\"^^\":*^6}'\n",
        "blank4"
      ],
      "execution_count": 72,
      "outputs": [
        {
          "output_type": "execute_result",
          "data": {
            "text/plain": [
              "'**^^**'"
            ]
          },
          "metadata": {
            "tags": []
          },
          "execution_count": 72
        }
      ]
    },
    {
      "cell_type": "markdown",
      "metadata": {
        "id": "KHaGHOpaz5wi",
        "colab_type": "text"
      },
      "source": [
        "#### C-2 list\n",
        "mutable object이여서 수정시 바로 original list에 업데이트 됨\n",
        "1. list() or [] : list로 변환 (a = list() _ 빈 리스트)\n",
        "2. indexing & slicing <br>\n",
        "Ep_string과 동일 <br> \n",
        "Ep_Multidimensional lists : x[0][0], x[1][1:3]"
      ]
    },
    {
      "cell_type": "code",
      "metadata": {
        "id": "Dg-RlcnJJzFA",
        "colab_type": "code",
        "colab": {}
      },
      "source": [
        "# multidimensional lists"
      ],
      "execution_count": 0,
      "outputs": []
    },
    {
      "cell_type": "markdown",
      "metadata": {
        "id": "EGfPvrgsz5wo",
        "colab_type": "text"
      },
      "source": [
        "#### C-3 tuple\n"
      ]
    },
    {
      "cell_type": "markdown",
      "metadata": {
        "id": "rCnldFB5z5ws",
        "colab_type": "text"
      },
      "source": [
        "#### C-4 dictionary\n"
      ]
    },
    {
      "cell_type": "markdown",
      "metadata": {
        "id": "_2Vv_nC-z5wz",
        "colab_type": "text"
      },
      "source": [
        "#### C-5 set\n"
      ]
    },
    {
      "cell_type": "markdown",
      "metadata": {
        "id": "nkDfeFIw01DZ",
        "colab_type": "text"
      },
      "source": [
        "+ type(variable) : 해당 변수의 type을 반환 <br>"
      ]
    },
    {
      "cell_type": "code",
      "metadata": {
        "id": "vtDklv06z5w4",
        "colab_type": "code",
        "colab": {}
      },
      "source": [
        ""
      ],
      "execution_count": 0,
      "outputs": []
    },
    {
      "cell_type": "markdown",
      "metadata": {
        "id": "iuouGWO_J8_-",
        "colab_type": "text"
      },
      "source": [
        "## 02 제어문 (if, while, for)"
      ]
    },
    {
      "cell_type": "markdown",
      "metadata": {
        "id": "1FDMUeqKKNbY",
        "colab_type": "text"
      },
      "source": [
        "### A. if문"
      ]
    },
    {
      "cell_type": "markdown",
      "metadata": {
        "id": "zZiKF2vcKNjC",
        "colab_type": "text"
      },
      "source": [
        "### B. while문"
      ]
    },
    {
      "cell_type": "markdown",
      "metadata": {
        "id": "CErG8rEoKNrJ",
        "colab_type": "text"
      },
      "source": [
        "### C. for문"
      ]
    },
    {
      "cell_type": "markdown",
      "metadata": {
        "id": "DbaG_M6VKIad",
        "colab_type": "text"
      },
      "source": [
        "## 03 함수"
      ]
    },
    {
      "cell_type": "code",
      "metadata": {
        "id": "75SeTXxwKLYk",
        "colab_type": "code",
        "colab": {}
      },
      "source": [
        ""
      ],
      "execution_count": 0,
      "outputs": []
    }
  ]
}